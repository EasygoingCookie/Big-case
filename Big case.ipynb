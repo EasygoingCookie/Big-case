{
 "cells": [
  {
   "cell_type": "code",
   "execution_count": 30,
   "id": "56ac73d7",
   "metadata": {},
   "outputs": [],
   "source": [
    "import psycopg2 as ps\n",
    "import warnings \n",
    "warnings.filterwarnings(\"ignore\")\n",
    "import numpy as np\n",
    "import pandas as pd\n",
    "import pandas.io.sql as sqlio\n",
    "import datetime"
   ]
  },
  {
   "cell_type": "code",
   "execution_count": null,
   "id": "153577ec",
   "metadata": {},
   "outputs": [],
   "source": []
  },
  {
   "cell_type": "markdown",
   "id": "dc3188e0",
   "metadata": {},
   "source": [
    "## Подключение к базе данных и сбор датасетов"
   ]
  },
  {
   "cell_type": "markdown",
   "id": "ba30fe60",
   "metadata": {},
   "source": [
    "Подключение"
   ]
  },
  {
   "cell_type": "code",
   "execution_count": 31,
   "id": "51ce5318",
   "metadata": {},
   "outputs": [],
   "source": [
    "conn = ps.connect(host=\"46.34.136.91\", port = 25432, database=\"postgres\", \n",
    "                  user=\"aaa_student\", password=\"student_@@@_2022\")"
   ]
  },
  {
   "cell_type": "markdown",
   "id": "392da56d",
   "metadata": {},
   "source": [
    "Сбор датасетов. User_info, Item_info выгружаем полностью"
   ]
  },
  {
   "cell_type": "code",
   "execution_count": 32,
   "id": "26cfc51d",
   "metadata": {},
   "outputs": [],
   "source": [
    "user_info = sqlio.read_sql_query(\"SELECT * FROM PUBLIC.services_verification_experiment_segment\", conn)"
   ]
  },
  {
   "cell_type": "code",
   "execution_count": 5,
   "id": "d4cb2e73",
   "metadata": {},
   "outputs": [
    {
     "data": {
      "text/html": [
       "<div>\n",
       "<style scoped>\n",
       "    .dataframe tbody tr th:only-of-type {\n",
       "        vertical-align: middle;\n",
       "    }\n",
       "\n",
       "    .dataframe tbody tr th {\n",
       "        vertical-align: top;\n",
       "    }\n",
       "\n",
       "    .dataframe thead th {\n",
       "        text-align: right;\n",
       "    }\n",
       "</style>\n",
       "<table border=\"1\" class=\"dataframe\">\n",
       "  <thead>\n",
       "    <tr style=\"text-align: right;\">\n",
       "      <th></th>\n",
       "      <th>user_id</th>\n",
       "      <th>experiment_group</th>\n",
       "      <th>UserType</th>\n",
       "      <th>RegistrationTime</th>\n",
       "    </tr>\n",
       "  </thead>\n",
       "  <tbody>\n",
       "    <tr>\n",
       "      <th>0</th>\n",
       "      <td>117790500037</td>\n",
       "      <td>30_discount</td>\n",
       "      <td>Private</td>\n",
       "      <td>2015-05-12 11:28:29.494941</td>\n",
       "    </tr>\n",
       "    <tr>\n",
       "      <th>1</th>\n",
       "      <td>117869500025</td>\n",
       "      <td>60_discount</td>\n",
       "      <td>Private</td>\n",
       "      <td>2015-05-12 17:46:49.315601</td>\n",
       "    </tr>\n",
       "    <tr>\n",
       "      <th>2</th>\n",
       "      <td>118017750006</td>\n",
       "      <td>no_discount</td>\n",
       "      <td>Private</td>\n",
       "      <td>2015-05-13 05:16:35.901323</td>\n",
       "    </tr>\n",
       "    <tr>\n",
       "      <th>3</th>\n",
       "      <td>118060250024</td>\n",
       "      <td>60_discount</td>\n",
       "      <td>Private</td>\n",
       "      <td>2015-05-13 08:35:47.776235</td>\n",
       "    </tr>\n",
       "    <tr>\n",
       "      <th>4</th>\n",
       "      <td>118066250019</td>\n",
       "      <td>30_discount</td>\n",
       "      <td>Company</td>\n",
       "      <td>2015-05-13 08:57:25.346077</td>\n",
       "    </tr>\n",
       "  </tbody>\n",
       "</table>\n",
       "</div>"
      ],
      "text/plain": [
       "        user_id experiment_group UserType           RegistrationTime\n",
       "0  117790500037      30_discount  Private 2015-05-12 11:28:29.494941\n",
       "1  117869500025      60_discount  Private 2015-05-12 17:46:49.315601\n",
       "2  118017750006      no_discount  Private 2015-05-13 05:16:35.901323\n",
       "3  118060250024      60_discount  Private 2015-05-13 08:35:47.776235\n",
       "4  118066250019      30_discount  Company 2015-05-13 08:57:25.346077"
      ]
     },
     "execution_count": 5,
     "metadata": {},
     "output_type": "execute_result"
    }
   ],
   "source": [
    "user_info.head()"
   ]
  },
  {
   "cell_type": "code",
   "execution_count": 34,
   "id": "b769c920",
   "metadata": {},
   "outputs": [],
   "source": [
    "verification_info = sqlio.read_sql_query(\"SELECT * FROM PUBLIC.services_verification_discounts\", conn)"
   ]
  },
  {
   "cell_type": "code",
   "execution_count": 35,
   "id": "d5433636",
   "metadata": {},
   "outputs": [
    {
     "data": {
      "text/html": [
       "<div>\n",
       "<style scoped>\n",
       "    .dataframe tbody tr th:only-of-type {\n",
       "        vertical-align: middle;\n",
       "    }\n",
       "\n",
       "    .dataframe tbody tr th {\n",
       "        vertical-align: top;\n",
       "    }\n",
       "\n",
       "    .dataframe thead th {\n",
       "        text-align: right;\n",
       "    }\n",
       "</style>\n",
       "<table border=\"1\" class=\"dataframe\">\n",
       "  <thead>\n",
       "    <tr style=\"text-align: right;\">\n",
       "      <th></th>\n",
       "      <th>user_id</th>\n",
       "      <th>item_id</th>\n",
       "      <th>discount_day</th>\n",
       "      <th>experiment</th>\n",
       "    </tr>\n",
       "  </thead>\n",
       "  <tbody>\n",
       "    <tr>\n",
       "      <th>0</th>\n",
       "      <td>49000737</td>\n",
       "      <td>11352751363</td>\n",
       "      <td>2021-10-01</td>\n",
       "      <td>1_verification_test</td>\n",
       "    </tr>\n",
       "    <tr>\n",
       "      <th>1</th>\n",
       "      <td>4255271</td>\n",
       "      <td>78048500109</td>\n",
       "      <td>2021-10-10</td>\n",
       "      <td>1_verification_test</td>\n",
       "    </tr>\n",
       "    <tr>\n",
       "      <th>2</th>\n",
       "      <td>111000153</td>\n",
       "      <td>101676750179</td>\n",
       "      <td>2021-10-02</td>\n",
       "      <td>1_verification_test</td>\n",
       "    </tr>\n",
       "    <tr>\n",
       "      <th>3</th>\n",
       "      <td>110750728</td>\n",
       "      <td>162344000369</td>\n",
       "      <td>2021-10-14</td>\n",
       "      <td>1_verification_test</td>\n",
       "    </tr>\n",
       "    <tr>\n",
       "      <th>4</th>\n",
       "      <td>143655000006</td>\n",
       "      <td>252307750608</td>\n",
       "      <td>2021-10-09</td>\n",
       "      <td>1_verification_test</td>\n",
       "    </tr>\n",
       "  </tbody>\n",
       "</table>\n",
       "</div>"
      ],
      "text/plain": [
       "        user_id       item_id discount_day           experiment\n",
       "0      49000737   11352751363   2021-10-01  1_verification_test\n",
       "1       4255271   78048500109   2021-10-10  1_verification_test\n",
       "2     111000153  101676750179   2021-10-02  1_verification_test\n",
       "3     110750728  162344000369   2021-10-14  1_verification_test\n",
       "4  143655000006  252307750608   2021-10-09  1_verification_test"
      ]
     },
     "execution_count": 35,
     "metadata": {},
     "output_type": "execute_result"
    }
   ],
   "source": [
    "verification_info.head()"
   ]
  },
  {
   "cell_type": "markdown",
   "id": "e2ee0d57",
   "metadata": {},
   "source": [
    "Обращаем внимание, что скидку могут дать на несколько объявлений"
   ]
  },
  {
   "cell_type": "code",
   "execution_count": 10,
   "id": "a2fef976",
   "metadata": {},
   "outputs": [
    {
     "data": {
      "text/plain": [
       "(29963, 4)"
      ]
     },
     "execution_count": 10,
     "metadata": {},
     "output_type": "execute_result"
    }
   ],
   "source": [
    "verification_info.shape"
   ]
  },
  {
   "cell_type": "code",
   "execution_count": 11,
   "id": "75c646fb",
   "metadata": {},
   "outputs": [
    {
     "data": {
      "text/plain": [
       "(22658,)"
      ]
     },
     "execution_count": 11,
     "metadata": {},
     "output_type": "execute_result"
    }
   ],
   "source": [
    "verification_info['user_id'].unique().shape"
   ]
  },
  {
   "cell_type": "code",
   "execution_count": 12,
   "id": "df4820ee",
   "metadata": {},
   "outputs": [],
   "source": [
    "verification_info.to_csv('verification_info.csv')"
   ]
  },
  {
   "cell_type": "code",
   "execution_count": 36,
   "id": "2c928c20",
   "metadata": {},
   "outputs": [],
   "source": [
    "verification_info['discount_day'] = pd.to_datetime(verification_info['discount_day'], format='%Y-%m-%d')"
   ]
  },
  {
   "cell_type": "markdown",
   "id": "b9c9d562",
   "metadata": {},
   "source": [
    "Далее, сджойним таблицу с payments и таблицу с информацией по объявлениям. Ограничим таблицу item_vertical = 1, transaction_type = 3."
   ]
  },
  {
   "cell_type": "code",
   "execution_count": 43,
   "id": "b34cef9c",
   "metadata": {},
   "outputs": [],
   "source": [
    "users_item_and_payment_info = sqlio.read_sql_query(\"SELECT * FROM PUBLIC.user_payments_info AS p LEFT JOIN PUBLIC.user_item_info As i ON p.user_id = i.user_id AND p.item_id = i.item_id WHERE item_vertical = '1' AND transaction_type = '3'\", conn)"
   ]
  },
  {
   "cell_type": "code",
   "execution_count": 46,
   "id": "6cb30765",
   "metadata": {},
   "outputs": [],
   "source": [
    "users_item_and_payment_info.to_csv('users_item_and_payment_info.csv')"
   ]
  },
  {
   "cell_type": "markdown",
   "id": "52ae8b49",
   "metadata": {},
   "source": [
    "Да, я, кстати, записал на всякий случай себе данные в csv таблицы) мало ли, потом соединение сломается)"
   ]
  },
  {
   "cell_type": "code",
   "execution_count": 44,
   "id": "db5181e0",
   "metadata": {},
   "outputs": [
    {
     "data": {
      "text/html": [
       "<div>\n",
       "<style scoped>\n",
       "    .dataframe tbody tr th:only-of-type {\n",
       "        vertical-align: middle;\n",
       "    }\n",
       "\n",
       "    .dataframe tbody tr th {\n",
       "        vertical-align: top;\n",
       "    }\n",
       "\n",
       "    .dataframe thead th {\n",
       "        text-align: right;\n",
       "    }\n",
       "</style>\n",
       "<table border=\"1\" class=\"dataframe\">\n",
       "  <thead>\n",
       "    <tr style=\"text-align: right;\">\n",
       "      <th></th>\n",
       "      <th>user_id</th>\n",
       "      <th>item_id</th>\n",
       "      <th>event_time</th>\n",
       "      <th>transaction_type</th>\n",
       "      <th>transaction_subtype</th>\n",
       "      <th>amount_net</th>\n",
       "      <th>item_id</th>\n",
       "      <th>user_id</th>\n",
       "      <th>item_vertical</th>\n",
       "      <th>item_region</th>\n",
       "      <th>item_creation_time</th>\n",
       "    </tr>\n",
       "  </thead>\n",
       "  <tbody>\n",
       "    <tr>\n",
       "      <th>0</th>\n",
       "      <td>345629000019</td>\n",
       "      <td>1.074269e+12</td>\n",
       "      <td>2021-06-24 07:50:02</td>\n",
       "      <td>3</td>\n",
       "      <td>10</td>\n",
       "      <td>268.461538</td>\n",
       "      <td>1074269000371</td>\n",
       "      <td>345629000019</td>\n",
       "      <td>1</td>\n",
       "      <td>75</td>\n",
       "      <td>2021-06-22 21:44:28.775996</td>\n",
       "    </tr>\n",
       "    <tr>\n",
       "      <th>1</th>\n",
       "      <td>748996250017</td>\n",
       "      <td>1.087440e+12</td>\n",
       "      <td>2021-07-23 03:26:38</td>\n",
       "      <td>3</td>\n",
       "      <td>17</td>\n",
       "      <td>47.692308</td>\n",
       "      <td>1087439750349</td>\n",
       "      <td>748996250017</td>\n",
       "      <td>1</td>\n",
       "      <td>75</td>\n",
       "      <td>2021-07-13 07:11:55.396692</td>\n",
       "    </tr>\n",
       "    <tr>\n",
       "      <th>2</th>\n",
       "      <td>748996250017</td>\n",
       "      <td>1.087440e+12</td>\n",
       "      <td>2021-09-02 15:43:26</td>\n",
       "      <td>3</td>\n",
       "      <td>16</td>\n",
       "      <td>24.615385</td>\n",
       "      <td>1087439750349</td>\n",
       "      <td>748996250017</td>\n",
       "      <td>1</td>\n",
       "      <td>75</td>\n",
       "      <td>2021-07-13 07:11:55.396692</td>\n",
       "    </tr>\n",
       "    <tr>\n",
       "      <th>3</th>\n",
       "      <td>748996250017</td>\n",
       "      <td>1.087440e+12</td>\n",
       "      <td>2021-07-15 11:17:29</td>\n",
       "      <td>3</td>\n",
       "      <td>17</td>\n",
       "      <td>47.692308</td>\n",
       "      <td>1087439750349</td>\n",
       "      <td>748996250017</td>\n",
       "      <td>1</td>\n",
       "      <td>75</td>\n",
       "      <td>2021-07-13 07:11:55.396692</td>\n",
       "    </tr>\n",
       "    <tr>\n",
       "      <th>4</th>\n",
       "      <td>825285750064</td>\n",
       "      <td>1.087457e+12</td>\n",
       "      <td>2021-07-13 09:11:39</td>\n",
       "      <td>3</td>\n",
       "      <td>10</td>\n",
       "      <td>157.692308</td>\n",
       "      <td>1087456751087</td>\n",
       "      <td>825285750064</td>\n",
       "      <td>1</td>\n",
       "      <td>75</td>\n",
       "      <td>2021-07-13 09:11:42.829165</td>\n",
       "    </tr>\n",
       "  </tbody>\n",
       "</table>\n",
       "</div>"
      ],
      "text/plain": [
       "        user_id       item_id          event_time transaction_type  \\\n",
       "0  345629000019  1.074269e+12 2021-06-24 07:50:02                3   \n",
       "1  748996250017  1.087440e+12 2021-07-23 03:26:38                3   \n",
       "2  748996250017  1.087440e+12 2021-09-02 15:43:26                3   \n",
       "3  748996250017  1.087440e+12 2021-07-15 11:17:29                3   \n",
       "4  825285750064  1.087457e+12 2021-07-13 09:11:39                3   \n",
       "\n",
       "  transaction_subtype  amount_net        item_id       user_id item_vertical  \\\n",
       "0                  10  268.461538  1074269000371  345629000019             1   \n",
       "1                  17   47.692308  1087439750349  748996250017             1   \n",
       "2                  16   24.615385  1087439750349  748996250017             1   \n",
       "3                  17   47.692308  1087439750349  748996250017             1   \n",
       "4                  10  157.692308  1087456751087  825285750064             1   \n",
       "\n",
       "  item_region         item_creation_time  \n",
       "0          75 2021-06-22 21:44:28.775996  \n",
       "1          75 2021-07-13 07:11:55.396692  \n",
       "2          75 2021-07-13 07:11:55.396692  \n",
       "3          75 2021-07-13 07:11:55.396692  \n",
       "4          75 2021-07-13 09:11:42.829165  "
      ]
     },
     "execution_count": 44,
     "metadata": {},
     "output_type": "execute_result"
    }
   ],
   "source": [
    "users_item_and_payment_info.head()"
   ]
  },
  {
   "cell_type": "code",
   "execution_count": 45,
   "id": "f5398ce5",
   "metadata": {},
   "outputs": [
    {
     "data": {
      "text/plain": [
       "(906985, 11)"
      ]
     },
     "execution_count": 45,
     "metadata": {},
     "output_type": "execute_result"
    }
   ],
   "source": [
    "users_item_and_payment_info.shape"
   ]
  },
  {
   "cell_type": "markdown",
   "id": "5cf786e0",
   "metadata": {},
   "source": [
    "Небольшой прикол: доставая данные таким образом - получаются столбцы с одинаковыми именами) и возникают трудности с удалением дубликата (даже по номеру столбца). Пришлось написать функцию, которая переименовывает столбцы."
   ]
  },
  {
   "cell_type": "code",
   "execution_count": 50,
   "id": "6936072a",
   "metadata": {},
   "outputs": [],
   "source": [
    "def rename_pandas_duplicated_columnes(df):\n",
    "    cols = pd.Series(df.columns)\n",
    "    for dup in cols[cols.duplicated()].unique(): \n",
    "        cols[cols[cols == dup].index.values.tolist()] = [dup + '.' + str(i) if i != 0 else dup for i in range(sum(cols == dup))]\n",
    "    df.columns = cols\n",
    "    return df"
   ]
  },
  {
   "cell_type": "code",
   "execution_count": 52,
   "id": "423c9027",
   "metadata": {},
   "outputs": [],
   "source": [
    "df = rename_pandas_duplicated_columnes(users_item_and_payment_info)"
   ]
  },
  {
   "cell_type": "code",
   "execution_count": 53,
   "id": "dcd542a2",
   "metadata": {},
   "outputs": [
    {
     "data": {
      "text/html": [
       "<div>\n",
       "<style scoped>\n",
       "    .dataframe tbody tr th:only-of-type {\n",
       "        vertical-align: middle;\n",
       "    }\n",
       "\n",
       "    .dataframe tbody tr th {\n",
       "        vertical-align: top;\n",
       "    }\n",
       "\n",
       "    .dataframe thead th {\n",
       "        text-align: right;\n",
       "    }\n",
       "</style>\n",
       "<table border=\"1\" class=\"dataframe\">\n",
       "  <thead>\n",
       "    <tr style=\"text-align: right;\">\n",
       "      <th></th>\n",
       "      <th>user_id</th>\n",
       "      <th>item_id</th>\n",
       "      <th>event_time</th>\n",
       "      <th>transaction_type</th>\n",
       "      <th>transaction_subtype</th>\n",
       "      <th>amount_net</th>\n",
       "      <th>item_id.1</th>\n",
       "      <th>user_id.1</th>\n",
       "      <th>item_vertical</th>\n",
       "      <th>item_region</th>\n",
       "      <th>item_creation_time</th>\n",
       "    </tr>\n",
       "  </thead>\n",
       "  <tbody>\n",
       "    <tr>\n",
       "      <th>0</th>\n",
       "      <td>345629000019</td>\n",
       "      <td>1.074269e+12</td>\n",
       "      <td>2021-06-24 07:50:02</td>\n",
       "      <td>3</td>\n",
       "      <td>10</td>\n",
       "      <td>268.461538</td>\n",
       "      <td>1074269000371</td>\n",
       "      <td>345629000019</td>\n",
       "      <td>1</td>\n",
       "      <td>75</td>\n",
       "      <td>2021-06-22 21:44:28.775996</td>\n",
       "    </tr>\n",
       "    <tr>\n",
       "      <th>1</th>\n",
       "      <td>748996250017</td>\n",
       "      <td>1.087440e+12</td>\n",
       "      <td>2021-07-23 03:26:38</td>\n",
       "      <td>3</td>\n",
       "      <td>17</td>\n",
       "      <td>47.692308</td>\n",
       "      <td>1087439750349</td>\n",
       "      <td>748996250017</td>\n",
       "      <td>1</td>\n",
       "      <td>75</td>\n",
       "      <td>2021-07-13 07:11:55.396692</td>\n",
       "    </tr>\n",
       "    <tr>\n",
       "      <th>2</th>\n",
       "      <td>748996250017</td>\n",
       "      <td>1.087440e+12</td>\n",
       "      <td>2021-09-02 15:43:26</td>\n",
       "      <td>3</td>\n",
       "      <td>16</td>\n",
       "      <td>24.615385</td>\n",
       "      <td>1087439750349</td>\n",
       "      <td>748996250017</td>\n",
       "      <td>1</td>\n",
       "      <td>75</td>\n",
       "      <td>2021-07-13 07:11:55.396692</td>\n",
       "    </tr>\n",
       "    <tr>\n",
       "      <th>3</th>\n",
       "      <td>748996250017</td>\n",
       "      <td>1.087440e+12</td>\n",
       "      <td>2021-07-15 11:17:29</td>\n",
       "      <td>3</td>\n",
       "      <td>17</td>\n",
       "      <td>47.692308</td>\n",
       "      <td>1087439750349</td>\n",
       "      <td>748996250017</td>\n",
       "      <td>1</td>\n",
       "      <td>75</td>\n",
       "      <td>2021-07-13 07:11:55.396692</td>\n",
       "    </tr>\n",
       "    <tr>\n",
       "      <th>4</th>\n",
       "      <td>825285750064</td>\n",
       "      <td>1.087457e+12</td>\n",
       "      <td>2021-07-13 09:11:39</td>\n",
       "      <td>3</td>\n",
       "      <td>10</td>\n",
       "      <td>157.692308</td>\n",
       "      <td>1087456751087</td>\n",
       "      <td>825285750064</td>\n",
       "      <td>1</td>\n",
       "      <td>75</td>\n",
       "      <td>2021-07-13 09:11:42.829165</td>\n",
       "    </tr>\n",
       "  </tbody>\n",
       "</table>\n",
       "</div>"
      ],
      "text/plain": [
       "        user_id       item_id          event_time transaction_type  \\\n",
       "0  345629000019  1.074269e+12 2021-06-24 07:50:02                3   \n",
       "1  748996250017  1.087440e+12 2021-07-23 03:26:38                3   \n",
       "2  748996250017  1.087440e+12 2021-09-02 15:43:26                3   \n",
       "3  748996250017  1.087440e+12 2021-07-15 11:17:29                3   \n",
       "4  825285750064  1.087457e+12 2021-07-13 09:11:39                3   \n",
       "\n",
       "  transaction_subtype  amount_net      item_id.1     user_id.1 item_vertical  \\\n",
       "0                  10  268.461538  1074269000371  345629000019             1   \n",
       "1                  17   47.692308  1087439750349  748996250017             1   \n",
       "2                  16   24.615385  1087439750349  748996250017             1   \n",
       "3                  17   47.692308  1087439750349  748996250017             1   \n",
       "4                  10  157.692308  1087456751087  825285750064             1   \n",
       "\n",
       "  item_region         item_creation_time  \n",
       "0          75 2021-06-22 21:44:28.775996  \n",
       "1          75 2021-07-13 07:11:55.396692  \n",
       "2          75 2021-07-13 07:11:55.396692  \n",
       "3          75 2021-07-13 07:11:55.396692  \n",
       "4          75 2021-07-13 09:11:42.829165  "
      ]
     },
     "execution_count": 53,
     "metadata": {},
     "output_type": "execute_result"
    }
   ],
   "source": [
    "df.head()"
   ]
  },
  {
   "cell_type": "markdown",
   "id": "fbced03d",
   "metadata": {},
   "source": [
    "О, теперь разные )"
   ]
  },
  {
   "cell_type": "code",
   "execution_count": 54,
   "id": "1af2c8c1",
   "metadata": {},
   "outputs": [],
   "source": [
    "df = df[df.columns[[0, 1, 2, 4, 5, 9, 10]]]"
   ]
  },
  {
   "cell_type": "code",
   "execution_count": 56,
   "id": "f0509b7a",
   "metadata": {},
   "outputs": [
    {
     "data": {
      "text/html": [
       "<div>\n",
       "<style scoped>\n",
       "    .dataframe tbody tr th:only-of-type {\n",
       "        vertical-align: middle;\n",
       "    }\n",
       "\n",
       "    .dataframe tbody tr th {\n",
       "        vertical-align: top;\n",
       "    }\n",
       "\n",
       "    .dataframe thead th {\n",
       "        text-align: right;\n",
       "    }\n",
       "</style>\n",
       "<table border=\"1\" class=\"dataframe\">\n",
       "  <thead>\n",
       "    <tr style=\"text-align: right;\">\n",
       "      <th></th>\n",
       "      <th>user_id</th>\n",
       "      <th>item_id</th>\n",
       "      <th>event_time</th>\n",
       "      <th>transaction_subtype</th>\n",
       "      <th>amount_net</th>\n",
       "      <th>item_region</th>\n",
       "      <th>item_creation_time</th>\n",
       "    </tr>\n",
       "  </thead>\n",
       "  <tbody>\n",
       "    <tr>\n",
       "      <th>0</th>\n",
       "      <td>345629000019</td>\n",
       "      <td>1.074269e+12</td>\n",
       "      <td>2021-06-24 07:50:02</td>\n",
       "      <td>10</td>\n",
       "      <td>268.461538</td>\n",
       "      <td>75</td>\n",
       "      <td>2021-06-22 21:44:28.775996</td>\n",
       "    </tr>\n",
       "    <tr>\n",
       "      <th>1</th>\n",
       "      <td>748996250017</td>\n",
       "      <td>1.087440e+12</td>\n",
       "      <td>2021-07-23 03:26:38</td>\n",
       "      <td>17</td>\n",
       "      <td>47.692308</td>\n",
       "      <td>75</td>\n",
       "      <td>2021-07-13 07:11:55.396692</td>\n",
       "    </tr>\n",
       "    <tr>\n",
       "      <th>2</th>\n",
       "      <td>748996250017</td>\n",
       "      <td>1.087440e+12</td>\n",
       "      <td>2021-09-02 15:43:26</td>\n",
       "      <td>16</td>\n",
       "      <td>24.615385</td>\n",
       "      <td>75</td>\n",
       "      <td>2021-07-13 07:11:55.396692</td>\n",
       "    </tr>\n",
       "    <tr>\n",
       "      <th>3</th>\n",
       "      <td>748996250017</td>\n",
       "      <td>1.087440e+12</td>\n",
       "      <td>2021-07-15 11:17:29</td>\n",
       "      <td>17</td>\n",
       "      <td>47.692308</td>\n",
       "      <td>75</td>\n",
       "      <td>2021-07-13 07:11:55.396692</td>\n",
       "    </tr>\n",
       "    <tr>\n",
       "      <th>4</th>\n",
       "      <td>825285750064</td>\n",
       "      <td>1.087457e+12</td>\n",
       "      <td>2021-07-13 09:11:39</td>\n",
       "      <td>10</td>\n",
       "      <td>157.692308</td>\n",
       "      <td>75</td>\n",
       "      <td>2021-07-13 09:11:42.829165</td>\n",
       "    </tr>\n",
       "  </tbody>\n",
       "</table>\n",
       "</div>"
      ],
      "text/plain": [
       "        user_id       item_id          event_time transaction_subtype  \\\n",
       "0  345629000019  1.074269e+12 2021-06-24 07:50:02                  10   \n",
       "1  748996250017  1.087440e+12 2021-07-23 03:26:38                  17   \n",
       "2  748996250017  1.087440e+12 2021-09-02 15:43:26                  16   \n",
       "3  748996250017  1.087440e+12 2021-07-15 11:17:29                  17   \n",
       "4  825285750064  1.087457e+12 2021-07-13 09:11:39                  10   \n",
       "\n",
       "   amount_net item_region         item_creation_time  \n",
       "0  268.461538          75 2021-06-22 21:44:28.775996  \n",
       "1   47.692308          75 2021-07-13 07:11:55.396692  \n",
       "2   24.615385          75 2021-07-13 07:11:55.396692  \n",
       "3   47.692308          75 2021-07-13 07:11:55.396692  \n",
       "4  157.692308          75 2021-07-13 09:11:42.829165  "
      ]
     },
     "execution_count": 56,
     "metadata": {},
     "output_type": "execute_result"
    }
   ],
   "source": [
    "df.head()"
   ]
  },
  {
   "cell_type": "markdown",
   "id": "7d4b5527",
   "metadata": {},
   "source": [
    "Ну и, наверное, будет проще сразу сджойнить с информацией по юзерам и таблицей с верификацией."
   ]
  },
  {
   "cell_type": "code",
   "execution_count": 57,
   "id": "e28b9d27",
   "metadata": {},
   "outputs": [],
   "source": [
    "df1 = df.merge(user_info, on='user_id', how='left')"
   ]
  },
  {
   "cell_type": "code",
   "execution_count": 58,
   "id": "51fbefd9",
   "metadata": {},
   "outputs": [
    {
     "data": {
      "text/html": [
       "<div>\n",
       "<style scoped>\n",
       "    .dataframe tbody tr th:only-of-type {\n",
       "        vertical-align: middle;\n",
       "    }\n",
       "\n",
       "    .dataframe tbody tr th {\n",
       "        vertical-align: top;\n",
       "    }\n",
       "\n",
       "    .dataframe thead th {\n",
       "        text-align: right;\n",
       "    }\n",
       "</style>\n",
       "<table border=\"1\" class=\"dataframe\">\n",
       "  <thead>\n",
       "    <tr style=\"text-align: right;\">\n",
       "      <th></th>\n",
       "      <th>user_id</th>\n",
       "      <th>item_id</th>\n",
       "      <th>event_time</th>\n",
       "      <th>transaction_subtype</th>\n",
       "      <th>amount_net</th>\n",
       "      <th>item_region</th>\n",
       "      <th>item_creation_time</th>\n",
       "      <th>experiment_group</th>\n",
       "      <th>UserType</th>\n",
       "      <th>RegistrationTime</th>\n",
       "    </tr>\n",
       "  </thead>\n",
       "  <tbody>\n",
       "    <tr>\n",
       "      <th>0</th>\n",
       "      <td>345629000019</td>\n",
       "      <td>1.074269e+12</td>\n",
       "      <td>2021-06-24 07:50:02</td>\n",
       "      <td>10</td>\n",
       "      <td>268.461538</td>\n",
       "      <td>75</td>\n",
       "      <td>2021-06-22 21:44:28.775996</td>\n",
       "      <td>60_discount</td>\n",
       "      <td>Shop</td>\n",
       "      <td>2017-10-13 23:19:36.356074</td>\n",
       "    </tr>\n",
       "    <tr>\n",
       "      <th>1</th>\n",
       "      <td>748996250017</td>\n",
       "      <td>1.087440e+12</td>\n",
       "      <td>2021-07-23 03:26:38</td>\n",
       "      <td>17</td>\n",
       "      <td>47.692308</td>\n",
       "      <td>75</td>\n",
       "      <td>2021-07-13 07:11:55.396692</td>\n",
       "      <td>60_discount</td>\n",
       "      <td>Private</td>\n",
       "      <td>2020-11-03 08:35:24.429217</td>\n",
       "    </tr>\n",
       "    <tr>\n",
       "      <th>2</th>\n",
       "      <td>748996250017</td>\n",
       "      <td>1.087440e+12</td>\n",
       "      <td>2021-09-02 15:43:26</td>\n",
       "      <td>16</td>\n",
       "      <td>24.615385</td>\n",
       "      <td>75</td>\n",
       "      <td>2021-07-13 07:11:55.396692</td>\n",
       "      <td>60_discount</td>\n",
       "      <td>Private</td>\n",
       "      <td>2020-11-03 08:35:24.429217</td>\n",
       "    </tr>\n",
       "    <tr>\n",
       "      <th>3</th>\n",
       "      <td>748996250017</td>\n",
       "      <td>1.087440e+12</td>\n",
       "      <td>2021-07-15 11:17:29</td>\n",
       "      <td>17</td>\n",
       "      <td>47.692308</td>\n",
       "      <td>75</td>\n",
       "      <td>2021-07-13 07:11:55.396692</td>\n",
       "      <td>60_discount</td>\n",
       "      <td>Private</td>\n",
       "      <td>2020-11-03 08:35:24.429217</td>\n",
       "    </tr>\n",
       "    <tr>\n",
       "      <th>4</th>\n",
       "      <td>825285750064</td>\n",
       "      <td>1.087457e+12</td>\n",
       "      <td>2021-07-13 09:11:39</td>\n",
       "      <td>10</td>\n",
       "      <td>157.692308</td>\n",
       "      <td>75</td>\n",
       "      <td>2021-07-13 09:11:42.829165</td>\n",
       "      <td>60_discount</td>\n",
       "      <td>Private</td>\n",
       "      <td>2021-03-17 13:52:10.158593</td>\n",
       "    </tr>\n",
       "  </tbody>\n",
       "</table>\n",
       "</div>"
      ],
      "text/plain": [
       "        user_id       item_id          event_time transaction_subtype  \\\n",
       "0  345629000019  1.074269e+12 2021-06-24 07:50:02                  10   \n",
       "1  748996250017  1.087440e+12 2021-07-23 03:26:38                  17   \n",
       "2  748996250017  1.087440e+12 2021-09-02 15:43:26                  16   \n",
       "3  748996250017  1.087440e+12 2021-07-15 11:17:29                  17   \n",
       "4  825285750064  1.087457e+12 2021-07-13 09:11:39                  10   \n",
       "\n",
       "   amount_net item_region         item_creation_time experiment_group  \\\n",
       "0  268.461538          75 2021-06-22 21:44:28.775996      60_discount   \n",
       "1   47.692308          75 2021-07-13 07:11:55.396692      60_discount   \n",
       "2   24.615385          75 2021-07-13 07:11:55.396692      60_discount   \n",
       "3   47.692308          75 2021-07-13 07:11:55.396692      60_discount   \n",
       "4  157.692308          75 2021-07-13 09:11:42.829165      60_discount   \n",
       "\n",
       "  UserType           RegistrationTime  \n",
       "0     Shop 2017-10-13 23:19:36.356074  \n",
       "1  Private 2020-11-03 08:35:24.429217  \n",
       "2  Private 2020-11-03 08:35:24.429217  \n",
       "3  Private 2020-11-03 08:35:24.429217  \n",
       "4  Private 2021-03-17 13:52:10.158593  "
      ]
     },
     "execution_count": 58,
     "metadata": {},
     "output_type": "execute_result"
    }
   ],
   "source": [
    "df1.head()"
   ]
  },
  {
   "cell_type": "markdown",
   "id": "e1bd2e25",
   "metadata": {},
   "source": [
    "Сразу доберем в датасет информацию с верификациями, чтобы потом не возвращаться."
   ]
  },
  {
   "cell_type": "code",
   "execution_count": 60,
   "id": "c9137966",
   "metadata": {},
   "outputs": [],
   "source": [
    "data = df1.merge(verification_info, on=['user_id', 'item_id'], how='left')"
   ]
  },
  {
   "cell_type": "code",
   "execution_count": 61,
   "id": "eb71bdf9",
   "metadata": {},
   "outputs": [
    {
     "data": {
      "text/html": [
       "<div>\n",
       "<style scoped>\n",
       "    .dataframe tbody tr th:only-of-type {\n",
       "        vertical-align: middle;\n",
       "    }\n",
       "\n",
       "    .dataframe tbody tr th {\n",
       "        vertical-align: top;\n",
       "    }\n",
       "\n",
       "    .dataframe thead th {\n",
       "        text-align: right;\n",
       "    }\n",
       "</style>\n",
       "<table border=\"1\" class=\"dataframe\">\n",
       "  <thead>\n",
       "    <tr style=\"text-align: right;\">\n",
       "      <th></th>\n",
       "      <th>user_id</th>\n",
       "      <th>item_id</th>\n",
       "      <th>event_time</th>\n",
       "      <th>transaction_subtype</th>\n",
       "      <th>amount_net</th>\n",
       "      <th>item_region</th>\n",
       "      <th>item_creation_time</th>\n",
       "      <th>experiment_group</th>\n",
       "      <th>UserType</th>\n",
       "      <th>RegistrationTime</th>\n",
       "      <th>discount_day</th>\n",
       "      <th>experiment</th>\n",
       "    </tr>\n",
       "  </thead>\n",
       "  <tbody>\n",
       "    <tr>\n",
       "      <th>0</th>\n",
       "      <td>345629000019</td>\n",
       "      <td>1.074269e+12</td>\n",
       "      <td>2021-06-24 07:50:02</td>\n",
       "      <td>10</td>\n",
       "      <td>268.461538</td>\n",
       "      <td>75</td>\n",
       "      <td>2021-06-22 21:44:28.775996</td>\n",
       "      <td>60_discount</td>\n",
       "      <td>Shop</td>\n",
       "      <td>2017-10-13 23:19:36.356074</td>\n",
       "      <td>NaT</td>\n",
       "      <td>NaN</td>\n",
       "    </tr>\n",
       "    <tr>\n",
       "      <th>1</th>\n",
       "      <td>748996250017</td>\n",
       "      <td>1.087440e+12</td>\n",
       "      <td>2021-07-23 03:26:38</td>\n",
       "      <td>17</td>\n",
       "      <td>47.692308</td>\n",
       "      <td>75</td>\n",
       "      <td>2021-07-13 07:11:55.396692</td>\n",
       "      <td>60_discount</td>\n",
       "      <td>Private</td>\n",
       "      <td>2020-11-03 08:35:24.429217</td>\n",
       "      <td>NaT</td>\n",
       "      <td>NaN</td>\n",
       "    </tr>\n",
       "    <tr>\n",
       "      <th>2</th>\n",
       "      <td>748996250017</td>\n",
       "      <td>1.087440e+12</td>\n",
       "      <td>2021-09-02 15:43:26</td>\n",
       "      <td>16</td>\n",
       "      <td>24.615385</td>\n",
       "      <td>75</td>\n",
       "      <td>2021-07-13 07:11:55.396692</td>\n",
       "      <td>60_discount</td>\n",
       "      <td>Private</td>\n",
       "      <td>2020-11-03 08:35:24.429217</td>\n",
       "      <td>NaT</td>\n",
       "      <td>NaN</td>\n",
       "    </tr>\n",
       "    <tr>\n",
       "      <th>3</th>\n",
       "      <td>748996250017</td>\n",
       "      <td>1.087440e+12</td>\n",
       "      <td>2021-07-15 11:17:29</td>\n",
       "      <td>17</td>\n",
       "      <td>47.692308</td>\n",
       "      <td>75</td>\n",
       "      <td>2021-07-13 07:11:55.396692</td>\n",
       "      <td>60_discount</td>\n",
       "      <td>Private</td>\n",
       "      <td>2020-11-03 08:35:24.429217</td>\n",
       "      <td>NaT</td>\n",
       "      <td>NaN</td>\n",
       "    </tr>\n",
       "    <tr>\n",
       "      <th>4</th>\n",
       "      <td>825285750064</td>\n",
       "      <td>1.087457e+12</td>\n",
       "      <td>2021-07-13 09:11:39</td>\n",
       "      <td>10</td>\n",
       "      <td>157.692308</td>\n",
       "      <td>75</td>\n",
       "      <td>2021-07-13 09:11:42.829165</td>\n",
       "      <td>60_discount</td>\n",
       "      <td>Private</td>\n",
       "      <td>2021-03-17 13:52:10.158593</td>\n",
       "      <td>NaT</td>\n",
       "      <td>NaN</td>\n",
       "    </tr>\n",
       "  </tbody>\n",
       "</table>\n",
       "</div>"
      ],
      "text/plain": [
       "        user_id       item_id          event_time transaction_subtype  \\\n",
       "0  345629000019  1.074269e+12 2021-06-24 07:50:02                  10   \n",
       "1  748996250017  1.087440e+12 2021-07-23 03:26:38                  17   \n",
       "2  748996250017  1.087440e+12 2021-09-02 15:43:26                  16   \n",
       "3  748996250017  1.087440e+12 2021-07-15 11:17:29                  17   \n",
       "4  825285750064  1.087457e+12 2021-07-13 09:11:39                  10   \n",
       "\n",
       "   amount_net item_region         item_creation_time experiment_group  \\\n",
       "0  268.461538          75 2021-06-22 21:44:28.775996      60_discount   \n",
       "1   47.692308          75 2021-07-13 07:11:55.396692      60_discount   \n",
       "2   24.615385          75 2021-07-13 07:11:55.396692      60_discount   \n",
       "3   47.692308          75 2021-07-13 07:11:55.396692      60_discount   \n",
       "4  157.692308          75 2021-07-13 09:11:42.829165      60_discount   \n",
       "\n",
       "  UserType           RegistrationTime discount_day experiment  \n",
       "0     Shop 2017-10-13 23:19:36.356074          NaT        NaN  \n",
       "1  Private 2020-11-03 08:35:24.429217          NaT        NaN  \n",
       "2  Private 2020-11-03 08:35:24.429217          NaT        NaN  \n",
       "3  Private 2020-11-03 08:35:24.429217          NaT        NaN  \n",
       "4  Private 2021-03-17 13:52:10.158593          NaT        NaN  "
      ]
     },
     "execution_count": 61,
     "metadata": {},
     "output_type": "execute_result"
    }
   ],
   "source": [
    "data.head()"
   ]
  },
  {
   "cell_type": "markdown",
   "id": "cddd50bb",
   "metadata": {},
   "source": [
    "Худо-бедно датасет собран. Идем считать метрики."
   ]
  },
  {
   "cell_type": "markdown",
   "id": "d70fb565",
   "metadata": {},
   "source": [
    "## Подсчет item_per_users, ARPU в группах до начала эксперимента"
   ]
  },
  {
   "cell_type": "markdown",
   "id": "d53e4df7",
   "metadata": {},
   "source": [
    "### item_per_users"
   ]
  },
  {
   "cell_type": "markdown",
   "id": "88b9e827",
   "metadata": {},
   "source": [
    "Первым делом посчитаем item_per_user. Нас интересуют объявления, созданные до начала эксперимента: 2021-09-15, фильтровать будем item_creation_time этой датой."
   ]
  },
  {
   "cell_type": "code",
   "execution_count": 68,
   "id": "5c19d74b",
   "metadata": {},
   "outputs": [],
   "source": [
    "df_for_item_per_users = data[['user_id', 'item_id', 'item_creation_time', 'experiment_group']]"
   ]
  },
  {
   "cell_type": "code",
   "execution_count": 69,
   "id": "4d35a50b",
   "metadata": {},
   "outputs": [
    {
     "data": {
      "text/html": [
       "<div>\n",
       "<style scoped>\n",
       "    .dataframe tbody tr th:only-of-type {\n",
       "        vertical-align: middle;\n",
       "    }\n",
       "\n",
       "    .dataframe tbody tr th {\n",
       "        vertical-align: top;\n",
       "    }\n",
       "\n",
       "    .dataframe thead th {\n",
       "        text-align: right;\n",
       "    }\n",
       "</style>\n",
       "<table border=\"1\" class=\"dataframe\">\n",
       "  <thead>\n",
       "    <tr style=\"text-align: right;\">\n",
       "      <th></th>\n",
       "      <th>user_id</th>\n",
       "      <th>item_id</th>\n",
       "      <th>item_creation_time</th>\n",
       "      <th>experiment_group</th>\n",
       "    </tr>\n",
       "  </thead>\n",
       "  <tbody>\n",
       "    <tr>\n",
       "      <th>0</th>\n",
       "      <td>345629000019</td>\n",
       "      <td>1.074269e+12</td>\n",
       "      <td>2021-06-22 21:44:28.775996</td>\n",
       "      <td>60_discount</td>\n",
       "    </tr>\n",
       "    <tr>\n",
       "      <th>1</th>\n",
       "      <td>748996250017</td>\n",
       "      <td>1.087440e+12</td>\n",
       "      <td>2021-07-13 07:11:55.396692</td>\n",
       "      <td>60_discount</td>\n",
       "    </tr>\n",
       "    <tr>\n",
       "      <th>2</th>\n",
       "      <td>748996250017</td>\n",
       "      <td>1.087440e+12</td>\n",
       "      <td>2021-07-13 07:11:55.396692</td>\n",
       "      <td>60_discount</td>\n",
       "    </tr>\n",
       "    <tr>\n",
       "      <th>3</th>\n",
       "      <td>748996250017</td>\n",
       "      <td>1.087440e+12</td>\n",
       "      <td>2021-07-13 07:11:55.396692</td>\n",
       "      <td>60_discount</td>\n",
       "    </tr>\n",
       "    <tr>\n",
       "      <th>4</th>\n",
       "      <td>825285750064</td>\n",
       "      <td>1.087457e+12</td>\n",
       "      <td>2021-07-13 09:11:42.829165</td>\n",
       "      <td>60_discount</td>\n",
       "    </tr>\n",
       "  </tbody>\n",
       "</table>\n",
       "</div>"
      ],
      "text/plain": [
       "        user_id       item_id         item_creation_time experiment_group\n",
       "0  345629000019  1.074269e+12 2021-06-22 21:44:28.775996      60_discount\n",
       "1  748996250017  1.087440e+12 2021-07-13 07:11:55.396692      60_discount\n",
       "2  748996250017  1.087440e+12 2021-07-13 07:11:55.396692      60_discount\n",
       "3  748996250017  1.087440e+12 2021-07-13 07:11:55.396692      60_discount\n",
       "4  825285750064  1.087457e+12 2021-07-13 09:11:42.829165      60_discount"
      ]
     },
     "execution_count": 69,
     "metadata": {},
     "output_type": "execute_result"
    }
   ],
   "source": [
    "df_for_item_per_users.head()"
   ]
  },
  {
   "cell_type": "code",
   "execution_count": 70,
   "id": "07213885",
   "metadata": {},
   "outputs": [],
   "source": [
    "df_for_item_per_users['item_creation_time'] = pd.to_datetime(df_for_item_per_users['item_creation_time'])"
   ]
  },
  {
   "cell_type": "code",
   "execution_count": 71,
   "id": "dada0a95",
   "metadata": {},
   "outputs": [],
   "source": [
    "df_for_item_per_users_before_test = df_for_item_per_users[df_for_item_per_users['item_creation_time'] < '2021-09-15']"
   ]
  },
  {
   "cell_type": "code",
   "execution_count": 76,
   "id": "8a4da3fe",
   "metadata": {},
   "outputs": [],
   "source": [
    "item_counts = df_for_item_per_users_before_test.groupby(['experiment_group', 'user_id'])[['item_id']].count()"
   ]
  },
  {
   "cell_type": "code",
   "execution_count": 78,
   "id": "fe8d32cd",
   "metadata": {},
   "outputs": [
    {
     "data": {
      "text/html": [
       "<div>\n",
       "<style scoped>\n",
       "    .dataframe tbody tr th:only-of-type {\n",
       "        vertical-align: middle;\n",
       "    }\n",
       "\n",
       "    .dataframe tbody tr th {\n",
       "        vertical-align: top;\n",
       "    }\n",
       "\n",
       "    .dataframe thead th {\n",
       "        text-align: right;\n",
       "    }\n",
       "</style>\n",
       "<table border=\"1\" class=\"dataframe\">\n",
       "  <thead>\n",
       "    <tr style=\"text-align: right;\">\n",
       "      <th></th>\n",
       "      <th></th>\n",
       "      <th>item_id</th>\n",
       "    </tr>\n",
       "    <tr>\n",
       "      <th>experiment_group</th>\n",
       "      <th>user_id</th>\n",
       "      <th></th>\n",
       "    </tr>\n",
       "  </thead>\n",
       "  <tbody>\n",
       "    <tr>\n",
       "      <th rowspan=\"5\" valign=\"top\">30_discount</th>\n",
       "      <th>789</th>\n",
       "      <td>1</td>\n",
       "    </tr>\n",
       "    <tr>\n",
       "      <th>2893</th>\n",
       "      <td>3</td>\n",
       "    </tr>\n",
       "    <tr>\n",
       "      <th>3449</th>\n",
       "      <td>2</td>\n",
       "    </tr>\n",
       "    <tr>\n",
       "      <th>3789</th>\n",
       "      <td>2</td>\n",
       "    </tr>\n",
       "    <tr>\n",
       "      <th>4137</th>\n",
       "      <td>5</td>\n",
       "    </tr>\n",
       "  </tbody>\n",
       "</table>\n",
       "</div>"
      ],
      "text/plain": [
       "                          item_id\n",
       "experiment_group user_id         \n",
       "30_discount      789            1\n",
       "                 2893           3\n",
       "                 3449           2\n",
       "                 3789           2\n",
       "                 4137           5"
      ]
     },
     "execution_count": 78,
     "metadata": {},
     "output_type": "execute_result"
    }
   ],
   "source": [
    "item_counts.head()"
   ]
  },
  {
   "cell_type": "markdown",
   "id": "406bab90",
   "metadata": {},
   "source": [
    "Небольшой тест: действительно у юзера 2893 создано три объявления до 15 сентября"
   ]
  },
  {
   "cell_type": "code",
   "execution_count": 83,
   "id": "25b610d1",
   "metadata": {
    "scrolled": true
   },
   "outputs": [
    {
     "data": {
      "text/html": [
       "<div>\n",
       "<style scoped>\n",
       "    .dataframe tbody tr th:only-of-type {\n",
       "        vertical-align: middle;\n",
       "    }\n",
       "\n",
       "    .dataframe tbody tr th {\n",
       "        vertical-align: top;\n",
       "    }\n",
       "\n",
       "    .dataframe thead th {\n",
       "        text-align: right;\n",
       "    }\n",
       "</style>\n",
       "<table border=\"1\" class=\"dataframe\">\n",
       "  <thead>\n",
       "    <tr style=\"text-align: right;\">\n",
       "      <th></th>\n",
       "      <th>user_id</th>\n",
       "      <th>item_id</th>\n",
       "      <th>event_time</th>\n",
       "      <th>transaction_subtype</th>\n",
       "      <th>amount_net</th>\n",
       "      <th>item_region</th>\n",
       "      <th>item_creation_time</th>\n",
       "      <th>experiment_group</th>\n",
       "      <th>UserType</th>\n",
       "      <th>RegistrationTime</th>\n",
       "      <th>discount_day</th>\n",
       "      <th>experiment</th>\n",
       "    </tr>\n",
       "  </thead>\n",
       "  <tbody>\n",
       "    <tr>\n",
       "      <th>204672</th>\n",
       "      <td>2893</td>\n",
       "      <td>1.165118e+12</td>\n",
       "      <td>2021-11-24 09:56:45</td>\n",
       "      <td>10</td>\n",
       "      <td>101.538462</td>\n",
       "      <td>25</td>\n",
       "      <td>2021-11-24 09:56:48.784227</td>\n",
       "      <td>30_discount</td>\n",
       "      <td>Private</td>\n",
       "      <td>2010-12-24 08:48:26.573836</td>\n",
       "      <td>NaT</td>\n",
       "      <td>NaN</td>\n",
       "    </tr>\n",
       "    <tr>\n",
       "      <th>390935</th>\n",
       "      <td>2893</td>\n",
       "      <td>8.759838e+11</td>\n",
       "      <td>2021-08-24 06:45:39</td>\n",
       "      <td>10</td>\n",
       "      <td>101.538462</td>\n",
       "      <td>25</td>\n",
       "      <td>2020-08-25 10:37:17.954182</td>\n",
       "      <td>30_discount</td>\n",
       "      <td>Private</td>\n",
       "      <td>2010-12-24 08:48:26.573836</td>\n",
       "      <td>NaT</td>\n",
       "      <td>NaN</td>\n",
       "    </tr>\n",
       "    <tr>\n",
       "      <th>442461</th>\n",
       "      <td>2893</td>\n",
       "      <td>8.912750e+11</td>\n",
       "      <td>2021-09-06 13:17:12</td>\n",
       "      <td>10</td>\n",
       "      <td>50.846154</td>\n",
       "      <td>25</td>\n",
       "      <td>2020-09-20 23:32:12.640702</td>\n",
       "      <td>30_discount</td>\n",
       "      <td>Private</td>\n",
       "      <td>2010-12-24 08:48:26.573836</td>\n",
       "      <td>NaT</td>\n",
       "      <td>NaN</td>\n",
       "    </tr>\n",
       "    <tr>\n",
       "      <th>594267</th>\n",
       "      <td>2893</td>\n",
       "      <td>7.824090e+11</td>\n",
       "      <td>2021-08-01 12:47:52</td>\n",
       "      <td>10</td>\n",
       "      <td>50.846154</td>\n",
       "      <td>25</td>\n",
       "      <td>2020-01-21 22:44:31.264369</td>\n",
       "      <td>30_discount</td>\n",
       "      <td>Private</td>\n",
       "      <td>2010-12-24 08:48:26.573836</td>\n",
       "      <td>NaT</td>\n",
       "      <td>NaN</td>\n",
       "    </tr>\n",
       "  </tbody>\n",
       "</table>\n",
       "</div>"
      ],
      "text/plain": [
       "        user_id       item_id          event_time transaction_subtype  \\\n",
       "204672     2893  1.165118e+12 2021-11-24 09:56:45                  10   \n",
       "390935     2893  8.759838e+11 2021-08-24 06:45:39                  10   \n",
       "442461     2893  8.912750e+11 2021-09-06 13:17:12                  10   \n",
       "594267     2893  7.824090e+11 2021-08-01 12:47:52                  10   \n",
       "\n",
       "        amount_net item_region         item_creation_time experiment_group  \\\n",
       "204672  101.538462          25 2021-11-24 09:56:48.784227      30_discount   \n",
       "390935  101.538462          25 2020-08-25 10:37:17.954182      30_discount   \n",
       "442461   50.846154          25 2020-09-20 23:32:12.640702      30_discount   \n",
       "594267   50.846154          25 2020-01-21 22:44:31.264369      30_discount   \n",
       "\n",
       "       UserType           RegistrationTime discount_day experiment  \n",
       "204672  Private 2010-12-24 08:48:26.573836          NaT        NaN  \n",
       "390935  Private 2010-12-24 08:48:26.573836          NaT        NaN  \n",
       "442461  Private 2010-12-24 08:48:26.573836          NaT        NaN  \n",
       "594267  Private 2010-12-24 08:48:26.573836          NaT        NaN  "
      ]
     },
     "execution_count": 83,
     "metadata": {},
     "output_type": "execute_result"
    }
   ],
   "source": [
    "data.loc[(data['experiment_group'] == '30_discount') & (data['user_id'] == 2893)]"
   ]
  },
  {
   "cell_type": "markdown",
   "id": "81a72428",
   "metadata": {},
   "source": [
    "Найдем среднее количество items на одного юзера в каждой группе:"
   ]
  },
  {
   "cell_type": "code",
   "execution_count": 84,
   "id": "6dc5159a",
   "metadata": {},
   "outputs": [],
   "source": [
    "mean_item_per_user = item_counts.groupby('experiment_group').mean()"
   ]
  },
  {
   "cell_type": "code",
   "execution_count": 85,
   "id": "8485661d",
   "metadata": {},
   "outputs": [
    {
     "data": {
      "text/html": [
       "<div>\n",
       "<style scoped>\n",
       "    .dataframe tbody tr th:only-of-type {\n",
       "        vertical-align: middle;\n",
       "    }\n",
       "\n",
       "    .dataframe tbody tr th {\n",
       "        vertical-align: top;\n",
       "    }\n",
       "\n",
       "    .dataframe thead th {\n",
       "        text-align: right;\n",
       "    }\n",
       "</style>\n",
       "<table border=\"1\" class=\"dataframe\">\n",
       "  <thead>\n",
       "    <tr style=\"text-align: right;\">\n",
       "      <th></th>\n",
       "      <th>item_id</th>\n",
       "    </tr>\n",
       "    <tr>\n",
       "      <th>experiment_group</th>\n",
       "      <th></th>\n",
       "    </tr>\n",
       "  </thead>\n",
       "  <tbody>\n",
       "    <tr>\n",
       "      <th>30_discount</th>\n",
       "      <td>6.352235</td>\n",
       "    </tr>\n",
       "    <tr>\n",
       "      <th>60_discount</th>\n",
       "      <td>6.590310</td>\n",
       "    </tr>\n",
       "    <tr>\n",
       "      <th>no_discount</th>\n",
       "      <td>6.162525</td>\n",
       "    </tr>\n",
       "  </tbody>\n",
       "</table>\n",
       "</div>"
      ],
      "text/plain": [
       "                   item_id\n",
       "experiment_group          \n",
       "30_discount       6.352235\n",
       "60_discount       6.590310\n",
       "no_discount       6.162525"
      ]
     },
     "execution_count": 85,
     "metadata": {},
     "output_type": "execute_result"
    }
   ],
   "source": [
    "mean_item_per_user"
   ]
  },
  {
   "cell_type": "markdown",
   "id": "6c6f2c74",
   "metadata": {},
   "source": [
    "### ARPU"
   ]
  },
  {
   "cell_type": "markdown",
   "id": "b35ec0fa",
   "metadata": {},
   "source": [
    "Для подсчета ARPU до теста будем ограничивать event_time - время покупки"
   ]
  },
  {
   "cell_type": "code",
   "execution_count": 86,
   "id": "76a2e611",
   "metadata": {},
   "outputs": [],
   "source": [
    "df_for_ARPU = data[['user_id', 'item_id', 'event_time', 'experiment_group', 'amount_net']]"
   ]
  },
  {
   "cell_type": "code",
   "execution_count": 88,
   "id": "52aaa610",
   "metadata": {},
   "outputs": [
    {
     "data": {
      "text/html": [
       "<div>\n",
       "<style scoped>\n",
       "    .dataframe tbody tr th:only-of-type {\n",
       "        vertical-align: middle;\n",
       "    }\n",
       "\n",
       "    .dataframe tbody tr th {\n",
       "        vertical-align: top;\n",
       "    }\n",
       "\n",
       "    .dataframe thead th {\n",
       "        text-align: right;\n",
       "    }\n",
       "</style>\n",
       "<table border=\"1\" class=\"dataframe\">\n",
       "  <thead>\n",
       "    <tr style=\"text-align: right;\">\n",
       "      <th></th>\n",
       "      <th>user_id</th>\n",
       "      <th>item_id</th>\n",
       "      <th>event_time</th>\n",
       "      <th>experiment_group</th>\n",
       "      <th>amount_net</th>\n",
       "    </tr>\n",
       "  </thead>\n",
       "  <tbody>\n",
       "    <tr>\n",
       "      <th>0</th>\n",
       "      <td>345629000019</td>\n",
       "      <td>1.074269e+12</td>\n",
       "      <td>2021-06-24 07:50:02</td>\n",
       "      <td>60_discount</td>\n",
       "      <td>268.461538</td>\n",
       "    </tr>\n",
       "    <tr>\n",
       "      <th>1</th>\n",
       "      <td>748996250017</td>\n",
       "      <td>1.087440e+12</td>\n",
       "      <td>2021-07-23 03:26:38</td>\n",
       "      <td>60_discount</td>\n",
       "      <td>47.692308</td>\n",
       "    </tr>\n",
       "    <tr>\n",
       "      <th>2</th>\n",
       "      <td>748996250017</td>\n",
       "      <td>1.087440e+12</td>\n",
       "      <td>2021-09-02 15:43:26</td>\n",
       "      <td>60_discount</td>\n",
       "      <td>24.615385</td>\n",
       "    </tr>\n",
       "    <tr>\n",
       "      <th>3</th>\n",
       "      <td>748996250017</td>\n",
       "      <td>1.087440e+12</td>\n",
       "      <td>2021-07-15 11:17:29</td>\n",
       "      <td>60_discount</td>\n",
       "      <td>47.692308</td>\n",
       "    </tr>\n",
       "    <tr>\n",
       "      <th>4</th>\n",
       "      <td>825285750064</td>\n",
       "      <td>1.087457e+12</td>\n",
       "      <td>2021-07-13 09:11:39</td>\n",
       "      <td>60_discount</td>\n",
       "      <td>157.692308</td>\n",
       "    </tr>\n",
       "  </tbody>\n",
       "</table>\n",
       "</div>"
      ],
      "text/plain": [
       "        user_id       item_id          event_time experiment_group  amount_net\n",
       "0  345629000019  1.074269e+12 2021-06-24 07:50:02      60_discount  268.461538\n",
       "1  748996250017  1.087440e+12 2021-07-23 03:26:38      60_discount   47.692308\n",
       "2  748996250017  1.087440e+12 2021-09-02 15:43:26      60_discount   24.615385\n",
       "3  748996250017  1.087440e+12 2021-07-15 11:17:29      60_discount   47.692308\n",
       "4  825285750064  1.087457e+12 2021-07-13 09:11:39      60_discount  157.692308"
      ]
     },
     "execution_count": 88,
     "metadata": {},
     "output_type": "execute_result"
    }
   ],
   "source": [
    "df_for_ARPU.head()"
   ]
  },
  {
   "cell_type": "markdown",
   "id": "81577e00",
   "metadata": {},
   "source": [
    "Аналогично, ограничим время:"
   ]
  },
  {
   "cell_type": "code",
   "execution_count": 89,
   "id": "dbd30b86",
   "metadata": {},
   "outputs": [],
   "source": [
    "df_for_ARPU_before_test = df_for_ARPU[df_for_ARPU['event_time'] < '2021-09-15']"
   ]
  },
  {
   "cell_type": "markdown",
   "id": "3d7d788e",
   "metadata": {},
   "source": [
    "Посчитаем суммы платежей по юзерам:"
   ]
  },
  {
   "cell_type": "code",
   "execution_count": 92,
   "id": "72a491bb",
   "metadata": {},
   "outputs": [],
   "source": [
    "user_payments = df_for_ARPU_before_test.groupby(['experiment_group', 'user_id'])[['amount_net']].sum()"
   ]
  },
  {
   "cell_type": "code",
   "execution_count": 93,
   "id": "b6ad5826",
   "metadata": {},
   "outputs": [
    {
     "data": {
      "text/html": [
       "<div>\n",
       "<style scoped>\n",
       "    .dataframe tbody tr th:only-of-type {\n",
       "        vertical-align: middle;\n",
       "    }\n",
       "\n",
       "    .dataframe tbody tr th {\n",
       "        vertical-align: top;\n",
       "    }\n",
       "\n",
       "    .dataframe thead th {\n",
       "        text-align: right;\n",
       "    }\n",
       "</style>\n",
       "<table border=\"1\" class=\"dataframe\">\n",
       "  <thead>\n",
       "    <tr style=\"text-align: right;\">\n",
       "      <th></th>\n",
       "      <th></th>\n",
       "      <th>amount_net</th>\n",
       "    </tr>\n",
       "    <tr>\n",
       "      <th>experiment_group</th>\n",
       "      <th>user_id</th>\n",
       "      <th></th>\n",
       "    </tr>\n",
       "  </thead>\n",
       "  <tbody>\n",
       "    <tr>\n",
       "      <th rowspan=\"5\" valign=\"top\">30_discount</th>\n",
       "      <th>789</th>\n",
       "      <td>37.692308</td>\n",
       "    </tr>\n",
       "    <tr>\n",
       "      <th>2893</th>\n",
       "      <td>203.230769</td>\n",
       "    </tr>\n",
       "    <tr>\n",
       "      <th>3449</th>\n",
       "      <td>69.307692</td>\n",
       "    </tr>\n",
       "    <tr>\n",
       "      <th>3789</th>\n",
       "      <td>60.153846</td>\n",
       "    </tr>\n",
       "    <tr>\n",
       "      <th>4137</th>\n",
       "      <td>40.461538</td>\n",
       "    </tr>\n",
       "  </tbody>\n",
       "</table>\n",
       "</div>"
      ],
      "text/plain": [
       "                          amount_net\n",
       "experiment_group user_id            \n",
       "30_discount      789       37.692308\n",
       "                 2893     203.230769\n",
       "                 3449      69.307692\n",
       "                 3789      60.153846\n",
       "                 4137      40.461538"
      ]
     },
     "execution_count": 93,
     "metadata": {},
     "output_type": "execute_result"
    }
   ],
   "source": [
    "user_payments.head()"
   ]
  },
  {
   "cell_type": "markdown",
   "id": "998156be",
   "metadata": {},
   "source": [
    "Для юзера 2893 в тесте выше сумма сходится )"
   ]
  },
  {
   "cell_type": "markdown",
   "id": "fd6d6f35",
   "metadata": {},
   "source": [
    "Посчитаем ARPU"
   ]
  },
  {
   "cell_type": "code",
   "execution_count": 94,
   "id": "3d0eb45d",
   "metadata": {},
   "outputs": [],
   "source": [
    "ARPU = user_payments.groupby('experiment_group').mean()"
   ]
  },
  {
   "cell_type": "code",
   "execution_count": 95,
   "id": "9f46fe98",
   "metadata": {},
   "outputs": [
    {
     "data": {
      "text/html": [
       "<div>\n",
       "<style scoped>\n",
       "    .dataframe tbody tr th:only-of-type {\n",
       "        vertical-align: middle;\n",
       "    }\n",
       "\n",
       "    .dataframe tbody tr th {\n",
       "        vertical-align: top;\n",
       "    }\n",
       "\n",
       "    .dataframe thead th {\n",
       "        text-align: right;\n",
       "    }\n",
       "</style>\n",
       "<table border=\"1\" class=\"dataframe\">\n",
       "  <thead>\n",
       "    <tr style=\"text-align: right;\">\n",
       "      <th></th>\n",
       "      <th>amount_net</th>\n",
       "    </tr>\n",
       "    <tr>\n",
       "      <th>experiment_group</th>\n",
       "      <th></th>\n",
       "    </tr>\n",
       "  </thead>\n",
       "  <tbody>\n",
       "    <tr>\n",
       "      <th>30_discount</th>\n",
       "      <td>230.898654</td>\n",
       "    </tr>\n",
       "    <tr>\n",
       "      <th>60_discount</th>\n",
       "      <td>239.768872</td>\n",
       "    </tr>\n",
       "    <tr>\n",
       "      <th>no_discount</th>\n",
       "      <td>226.872500</td>\n",
       "    </tr>\n",
       "  </tbody>\n",
       "</table>\n",
       "</div>"
      ],
      "text/plain": [
       "                  amount_net\n",
       "experiment_group            \n",
       "30_discount       230.898654\n",
       "60_discount       239.768872\n",
       "no_discount       226.872500"
      ]
     },
     "execution_count": 95,
     "metadata": {},
     "output_type": "execute_result"
    }
   ],
   "source": [
    "ARPU"
   ]
  },
  {
   "cell_type": "code",
   "execution_count": null,
   "id": "e9253bc3",
   "metadata": {},
   "outputs": [],
   "source": []
  }
 ],
 "metadata": {
  "kernelspec": {
   "display_name": "Python 3 (ipykernel)",
   "language": "python",
   "name": "python3"
  },
  "language_info": {
   "codemirror_mode": {
    "name": "ipython",
    "version": 3
   },
   "file_extension": ".py",
   "mimetype": "text/x-python",
   "name": "python",
   "nbconvert_exporter": "python",
   "pygments_lexer": "ipython3",
   "version": "3.9.13"
  }
 },
 "nbformat": 4,
 "nbformat_minor": 5
}
