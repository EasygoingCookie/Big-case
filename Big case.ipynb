{
 "cells": [
  {
   "cell_type": "code",
   "execution_count": 1,
   "id": "56ac73d7",
   "metadata": {},
   "outputs": [],
   "source": [
    "import psycopg2 as ps\n",
    "import warnings \n",
    "warnings.filterwarnings(\"ignore\")\n",
    "import numpy as np\n",
    "import pandas as pd\n",
    "import pandas.io.sql as sqlio\n",
    "import datetime"
   ]
  },
  {
   "cell_type": "code",
   "execution_count": null,
   "id": "153577ec",
   "metadata": {},
   "outputs": [],
   "source": []
  },
  {
   "cell_type": "markdown",
   "id": "dc3188e0",
   "metadata": {},
   "source": [
    "## Подключение к базе данных и сбор датасетов"
   ]
  },
  {
   "cell_type": "markdown",
   "id": "ba30fe60",
   "metadata": {},
   "source": [
    "Подключение"
   ]
  },
  {
   "cell_type": "code",
   "execution_count": 2,
   "id": "51ce5318",
   "metadata": {},
   "outputs": [],
   "source": [
    "conn = ps.connect(host=\"46.34.136.91\", port = 25432, database=\"postgres\", \n",
    "                  user=\"aaa_student\", password=\"student_@@@_2022\")"
   ]
  },
  {
   "cell_type": "markdown",
   "id": "392da56d",
   "metadata": {},
   "source": [
    "Сбор датасетов. User_info, Item_info выгружаем полностью"
   ]
  },
  {
   "cell_type": "code",
   "execution_count": 3,
   "id": "26cfc51d",
   "metadata": {},
   "outputs": [],
   "source": [
    "user_info = sqlio.read_sql_query(\"SELECT * FROM PUBLIC.services_verification_experiment_segment\", conn)"
   ]
  },
  {
   "cell_type": "code",
   "execution_count": 4,
   "id": "d4cb2e73",
   "metadata": {},
   "outputs": [
    {
     "data": {
      "text/html": [
       "<div>\n",
       "<style scoped>\n",
       "    .dataframe tbody tr th:only-of-type {\n",
       "        vertical-align: middle;\n",
       "    }\n",
       "\n",
       "    .dataframe tbody tr th {\n",
       "        vertical-align: top;\n",
       "    }\n",
       "\n",
       "    .dataframe thead th {\n",
       "        text-align: right;\n",
       "    }\n",
       "</style>\n",
       "<table border=\"1\" class=\"dataframe\">\n",
       "  <thead>\n",
       "    <tr style=\"text-align: right;\">\n",
       "      <th></th>\n",
       "      <th>user_id</th>\n",
       "      <th>experiment_group</th>\n",
       "      <th>UserType</th>\n",
       "      <th>RegistrationTime</th>\n",
       "    </tr>\n",
       "  </thead>\n",
       "  <tbody>\n",
       "    <tr>\n",
       "      <th>0</th>\n",
       "      <td>386931286</td>\n",
       "      <td>30_discount</td>\n",
       "      <td>Company</td>\n",
       "      <td>2013-04-29 16:49:41.611735</td>\n",
       "    </tr>\n",
       "    <tr>\n",
       "      <th>1</th>\n",
       "      <td>386932096</td>\n",
       "      <td>no_discount</td>\n",
       "      <td>Company</td>\n",
       "      <td>2013-04-29 17:57:23.113672</td>\n",
       "    </tr>\n",
       "    <tr>\n",
       "      <th>2</th>\n",
       "      <td>386943455</td>\n",
       "      <td>60_discount</td>\n",
       "      <td>Private</td>\n",
       "      <td>2013-04-30 17:40:49.198317</td>\n",
       "    </tr>\n",
       "    <tr>\n",
       "      <th>3</th>\n",
       "      <td>386948456</td>\n",
       "      <td>30_discount</td>\n",
       "      <td>Private</td>\n",
       "      <td>2013-05-01 10:47:50.612032</td>\n",
       "    </tr>\n",
       "    <tr>\n",
       "      <th>4</th>\n",
       "      <td>386958876</td>\n",
       "      <td>60_discount</td>\n",
       "      <td>Private</td>\n",
       "      <td>2013-05-02 14:41:52.244914</td>\n",
       "    </tr>\n",
       "  </tbody>\n",
       "</table>\n",
       "</div>"
      ],
      "text/plain": [
       "     user_id experiment_group UserType           RegistrationTime\n",
       "0  386931286      30_discount  Company 2013-04-29 16:49:41.611735\n",
       "1  386932096      no_discount  Company 2013-04-29 17:57:23.113672\n",
       "2  386943455      60_discount  Private 2013-04-30 17:40:49.198317\n",
       "3  386948456      30_discount  Private 2013-05-01 10:47:50.612032\n",
       "4  386958876      60_discount  Private 2013-05-02 14:41:52.244914"
      ]
     },
     "execution_count": 4,
     "metadata": {},
     "output_type": "execute_result"
    }
   ],
   "source": [
    "user_info.head()"
   ]
  },
  {
   "cell_type": "code",
   "execution_count": 5,
   "id": "b769c920",
   "metadata": {},
   "outputs": [],
   "source": [
    "verification_info = sqlio.read_sql_query(\"SELECT * FROM PUBLIC.services_verification_discounts\", conn)"
   ]
  },
  {
   "cell_type": "code",
   "execution_count": 6,
   "id": "d5433636",
   "metadata": {},
   "outputs": [
    {
     "data": {
      "text/html": [
       "<div>\n",
       "<style scoped>\n",
       "    .dataframe tbody tr th:only-of-type {\n",
       "        vertical-align: middle;\n",
       "    }\n",
       "\n",
       "    .dataframe tbody tr th {\n",
       "        vertical-align: top;\n",
       "    }\n",
       "\n",
       "    .dataframe thead th {\n",
       "        text-align: right;\n",
       "    }\n",
       "</style>\n",
       "<table border=\"1\" class=\"dataframe\">\n",
       "  <thead>\n",
       "    <tr style=\"text-align: right;\">\n",
       "      <th></th>\n",
       "      <th>user_id</th>\n",
       "      <th>item_id</th>\n",
       "      <th>discount_day</th>\n",
       "      <th>experiment</th>\n",
       "    </tr>\n",
       "  </thead>\n",
       "  <tbody>\n",
       "    <tr>\n",
       "      <th>0</th>\n",
       "      <td>49000737</td>\n",
       "      <td>11352751363</td>\n",
       "      <td>2021-10-01</td>\n",
       "      <td>1_verification_test</td>\n",
       "    </tr>\n",
       "    <tr>\n",
       "      <th>1</th>\n",
       "      <td>4255271</td>\n",
       "      <td>78048500109</td>\n",
       "      <td>2021-10-10</td>\n",
       "      <td>1_verification_test</td>\n",
       "    </tr>\n",
       "    <tr>\n",
       "      <th>2</th>\n",
       "      <td>111000153</td>\n",
       "      <td>101676750179</td>\n",
       "      <td>2021-10-02</td>\n",
       "      <td>1_verification_test</td>\n",
       "    </tr>\n",
       "    <tr>\n",
       "      <th>3</th>\n",
       "      <td>110750728</td>\n",
       "      <td>162344000369</td>\n",
       "      <td>2021-10-14</td>\n",
       "      <td>1_verification_test</td>\n",
       "    </tr>\n",
       "    <tr>\n",
       "      <th>4</th>\n",
       "      <td>143655000006</td>\n",
       "      <td>252307750608</td>\n",
       "      <td>2021-10-09</td>\n",
       "      <td>1_verification_test</td>\n",
       "    </tr>\n",
       "  </tbody>\n",
       "</table>\n",
       "</div>"
      ],
      "text/plain": [
       "        user_id       item_id discount_day           experiment\n",
       "0      49000737   11352751363   2021-10-01  1_verification_test\n",
       "1       4255271   78048500109   2021-10-10  1_verification_test\n",
       "2     111000153  101676750179   2021-10-02  1_verification_test\n",
       "3     110750728  162344000369   2021-10-14  1_verification_test\n",
       "4  143655000006  252307750608   2021-10-09  1_verification_test"
      ]
     },
     "execution_count": 6,
     "metadata": {},
     "output_type": "execute_result"
    }
   ],
   "source": [
    "verification_info.head()"
   ]
  },
  {
   "cell_type": "markdown",
   "id": "e2ee0d57",
   "metadata": {},
   "source": [
    "Обращаем внимание, что скидку могут дать на несколько объявлений"
   ]
  },
  {
   "cell_type": "code",
   "execution_count": 7,
   "id": "a2fef976",
   "metadata": {},
   "outputs": [
    {
     "data": {
      "text/plain": [
       "(29963, 4)"
      ]
     },
     "execution_count": 7,
     "metadata": {},
     "output_type": "execute_result"
    }
   ],
   "source": [
    "verification_info.shape"
   ]
  },
  {
   "cell_type": "code",
   "execution_count": 8,
   "id": "75c646fb",
   "metadata": {},
   "outputs": [
    {
     "data": {
      "text/plain": [
       "(22658,)"
      ]
     },
     "execution_count": 8,
     "metadata": {},
     "output_type": "execute_result"
    }
   ],
   "source": [
    "verification_info['user_id'].unique().shape"
   ]
  },
  {
   "cell_type": "code",
   "execution_count": 12,
   "id": "df4820ee",
   "metadata": {},
   "outputs": [],
   "source": [
    "verification_info.to_csv('verification_info.csv')"
   ]
  },
  {
   "cell_type": "code",
   "execution_count": 9,
   "id": "2c928c20",
   "metadata": {},
   "outputs": [],
   "source": [
    "verification_info['discount_day'] = pd.to_datetime(verification_info['discount_day'], format='%Y-%m-%d')"
   ]
  },
  {
   "cell_type": "markdown",
   "id": "b9c9d562",
   "metadata": {},
   "source": [
    "Далее, сджойним таблицу с payments и таблицу с информацией по объявлениям. Ограничим таблицу item_vertical = 1, transaction_type = 3."
   ]
  },
  {
   "cell_type": "code",
   "execution_count": 10,
   "id": "b34cef9c",
   "metadata": {},
   "outputs": [],
   "source": [
    "users_item_and_payment_info = sqlio.read_sql_query(\"SELECT * FROM PUBLIC.user_payments_info AS p LEFT JOIN PUBLIC.user_item_info As i ON p.user_id = i.user_id AND p.item_id = i.item_id WHERE item_vertical = '1' AND transaction_type = '3'\", conn)"
   ]
  },
  {
   "cell_type": "code",
   "execution_count": 46,
   "id": "6cb30765",
   "metadata": {},
   "outputs": [],
   "source": [
    "users_item_and_payment_info.to_csv('users_item_and_payment_info.csv')"
   ]
  },
  {
   "cell_type": "markdown",
   "id": "52ae8b49",
   "metadata": {},
   "source": [
    "Да, я, кстати, записал на всякий случай себе данные в csv таблицы) мало ли, потом соединение сломается)"
   ]
  },
  {
   "cell_type": "code",
   "execution_count": 11,
   "id": "db5181e0",
   "metadata": {},
   "outputs": [
    {
     "data": {
      "text/html": [
       "<div>\n",
       "<style scoped>\n",
       "    .dataframe tbody tr th:only-of-type {\n",
       "        vertical-align: middle;\n",
       "    }\n",
       "\n",
       "    .dataframe tbody tr th {\n",
       "        vertical-align: top;\n",
       "    }\n",
       "\n",
       "    .dataframe thead th {\n",
       "        text-align: right;\n",
       "    }\n",
       "</style>\n",
       "<table border=\"1\" class=\"dataframe\">\n",
       "  <thead>\n",
       "    <tr style=\"text-align: right;\">\n",
       "      <th></th>\n",
       "      <th>user_id</th>\n",
       "      <th>item_id</th>\n",
       "      <th>event_time</th>\n",
       "      <th>transaction_type</th>\n",
       "      <th>transaction_subtype</th>\n",
       "      <th>amount_net</th>\n",
       "      <th>item_id</th>\n",
       "      <th>user_id</th>\n",
       "      <th>item_vertical</th>\n",
       "      <th>item_region</th>\n",
       "      <th>item_creation_time</th>\n",
       "    </tr>\n",
       "  </thead>\n",
       "  <tbody>\n",
       "    <tr>\n",
       "      <th>0</th>\n",
       "      <td>290613250103</td>\n",
       "      <td>1.099385e+12</td>\n",
       "      <td>2021-08-02 16:20:33.000000</td>\n",
       "      <td>3</td>\n",
       "      <td>16</td>\n",
       "      <td>30.000000</td>\n",
       "      <td>1099385250423</td>\n",
       "      <td>290613250103</td>\n",
       "      <td>1</td>\n",
       "      <td>75</td>\n",
       "      <td>2021-08-02 16:17:26.063798</td>\n",
       "    </tr>\n",
       "    <tr>\n",
       "      <th>1</th>\n",
       "      <td>879029000009</td>\n",
       "      <td>1.072236e+12</td>\n",
       "      <td>2021-09-22 08:33:16.000000</td>\n",
       "      <td>3</td>\n",
       "      <td>17</td>\n",
       "      <td>42.307692</td>\n",
       "      <td>1072235500005</td>\n",
       "      <td>879029000009</td>\n",
       "      <td>1</td>\n",
       "      <td>46</td>\n",
       "      <td>2021-06-21 06:41:56.826799</td>\n",
       "    </tr>\n",
       "    <tr>\n",
       "      <th>2</th>\n",
       "      <td>253395500010</td>\n",
       "      <td>1.082999e+12</td>\n",
       "      <td>2021-07-21 22:40:56.000000</td>\n",
       "      <td>3</td>\n",
       "      <td>18</td>\n",
       "      <td>26.846154</td>\n",
       "      <td>1082999250118</td>\n",
       "      <td>253395500010</td>\n",
       "      <td>1</td>\n",
       "      <td>31</td>\n",
       "      <td>2021-07-05 12:48:24.340016</td>\n",
       "    </tr>\n",
       "    <tr>\n",
       "      <th>3</th>\n",
       "      <td>865041000002</td>\n",
       "      <td>1.074244e+12</td>\n",
       "      <td>2021-06-24 16:01:00.000000</td>\n",
       "      <td>3</td>\n",
       "      <td>19</td>\n",
       "      <td>68.538462</td>\n",
       "      <td>1074243500089</td>\n",
       "      <td>865041000002</td>\n",
       "      <td>1</td>\n",
       "      <td>42</td>\n",
       "      <td>2021-06-22 20:17:26.295496</td>\n",
       "    </tr>\n",
       "    <tr>\n",
       "      <th>4</th>\n",
       "      <td>865041000002</td>\n",
       "      <td>1.074244e+12</td>\n",
       "      <td>2021-06-24 09:37:28.401409</td>\n",
       "      <td>3</td>\n",
       "      <td>10</td>\n",
       "      <td>104.692308</td>\n",
       "      <td>1074243500089</td>\n",
       "      <td>865041000002</td>\n",
       "      <td>1</td>\n",
       "      <td>42</td>\n",
       "      <td>2021-06-22 20:17:26.295496</td>\n",
       "    </tr>\n",
       "  </tbody>\n",
       "</table>\n",
       "</div>"
      ],
      "text/plain": [
       "        user_id       item_id                 event_time transaction_type  \\\n",
       "0  290613250103  1.099385e+12 2021-08-02 16:20:33.000000                3   \n",
       "1  879029000009  1.072236e+12 2021-09-22 08:33:16.000000                3   \n",
       "2  253395500010  1.082999e+12 2021-07-21 22:40:56.000000                3   \n",
       "3  865041000002  1.074244e+12 2021-06-24 16:01:00.000000                3   \n",
       "4  865041000002  1.074244e+12 2021-06-24 09:37:28.401409                3   \n",
       "\n",
       "  transaction_subtype  amount_net        item_id       user_id item_vertical  \\\n",
       "0                  16   30.000000  1099385250423  290613250103             1   \n",
       "1                  17   42.307692  1072235500005  879029000009             1   \n",
       "2                  18   26.846154  1082999250118  253395500010             1   \n",
       "3                  19   68.538462  1074243500089  865041000002             1   \n",
       "4                  10  104.692308  1074243500089  865041000002             1   \n",
       "\n",
       "  item_region         item_creation_time  \n",
       "0          75 2021-08-02 16:17:26.063798  \n",
       "1          46 2021-06-21 06:41:56.826799  \n",
       "2          31 2021-07-05 12:48:24.340016  \n",
       "3          42 2021-06-22 20:17:26.295496  \n",
       "4          42 2021-06-22 20:17:26.295496  "
      ]
     },
     "execution_count": 11,
     "metadata": {},
     "output_type": "execute_result"
    }
   ],
   "source": [
    "users_item_and_payment_info.head()"
   ]
  },
  {
   "cell_type": "code",
   "execution_count": 12,
   "id": "f5398ce5",
   "metadata": {},
   "outputs": [
    {
     "data": {
      "text/plain": [
       "(906985, 11)"
      ]
     },
     "execution_count": 12,
     "metadata": {},
     "output_type": "execute_result"
    }
   ],
   "source": [
    "users_item_and_payment_info.shape"
   ]
  },
  {
   "cell_type": "markdown",
   "id": "5cf786e0",
   "metadata": {},
   "source": [
    "Небольшой прикол: доставая данные таким образом - получаются столбцы с одинаковыми именами) и возникают трудности с удалением дубликата (даже по номеру столбца). Пришлось написать функцию, которая переименовывает столбцы."
   ]
  },
  {
   "cell_type": "code",
   "execution_count": 13,
   "id": "6936072a",
   "metadata": {},
   "outputs": [],
   "source": [
    "def rename_pandas_duplicated_columnes(df):\n",
    "    cols = pd.Series(df.columns)\n",
    "    for dup in cols[cols.duplicated()].unique(): \n",
    "        cols[cols[cols == dup].index.values.tolist()] = [dup + '.' + str(i) if i != 0 else dup for i in range(sum(cols == dup))]\n",
    "    df.columns = cols\n",
    "    return df"
   ]
  },
  {
   "cell_type": "code",
   "execution_count": 14,
   "id": "423c9027",
   "metadata": {},
   "outputs": [],
   "source": [
    "df = rename_pandas_duplicated_columnes(users_item_and_payment_info)"
   ]
  },
  {
   "cell_type": "code",
   "execution_count": 15,
   "id": "dcd542a2",
   "metadata": {},
   "outputs": [
    {
     "data": {
      "text/html": [
       "<div>\n",
       "<style scoped>\n",
       "    .dataframe tbody tr th:only-of-type {\n",
       "        vertical-align: middle;\n",
       "    }\n",
       "\n",
       "    .dataframe tbody tr th {\n",
       "        vertical-align: top;\n",
       "    }\n",
       "\n",
       "    .dataframe thead th {\n",
       "        text-align: right;\n",
       "    }\n",
       "</style>\n",
       "<table border=\"1\" class=\"dataframe\">\n",
       "  <thead>\n",
       "    <tr style=\"text-align: right;\">\n",
       "      <th></th>\n",
       "      <th>user_id</th>\n",
       "      <th>item_id</th>\n",
       "      <th>event_time</th>\n",
       "      <th>transaction_type</th>\n",
       "      <th>transaction_subtype</th>\n",
       "      <th>amount_net</th>\n",
       "      <th>item_id.1</th>\n",
       "      <th>user_id.1</th>\n",
       "      <th>item_vertical</th>\n",
       "      <th>item_region</th>\n",
       "      <th>item_creation_time</th>\n",
       "    </tr>\n",
       "  </thead>\n",
       "  <tbody>\n",
       "    <tr>\n",
       "      <th>0</th>\n",
       "      <td>290613250103</td>\n",
       "      <td>1.099385e+12</td>\n",
       "      <td>2021-08-02 16:20:33.000000</td>\n",
       "      <td>3</td>\n",
       "      <td>16</td>\n",
       "      <td>30.000000</td>\n",
       "      <td>1099385250423</td>\n",
       "      <td>290613250103</td>\n",
       "      <td>1</td>\n",
       "      <td>75</td>\n",
       "      <td>2021-08-02 16:17:26.063798</td>\n",
       "    </tr>\n",
       "    <tr>\n",
       "      <th>1</th>\n",
       "      <td>879029000009</td>\n",
       "      <td>1.072236e+12</td>\n",
       "      <td>2021-09-22 08:33:16.000000</td>\n",
       "      <td>3</td>\n",
       "      <td>17</td>\n",
       "      <td>42.307692</td>\n",
       "      <td>1072235500005</td>\n",
       "      <td>879029000009</td>\n",
       "      <td>1</td>\n",
       "      <td>46</td>\n",
       "      <td>2021-06-21 06:41:56.826799</td>\n",
       "    </tr>\n",
       "    <tr>\n",
       "      <th>2</th>\n",
       "      <td>253395500010</td>\n",
       "      <td>1.082999e+12</td>\n",
       "      <td>2021-07-21 22:40:56.000000</td>\n",
       "      <td>3</td>\n",
       "      <td>18</td>\n",
       "      <td>26.846154</td>\n",
       "      <td>1082999250118</td>\n",
       "      <td>253395500010</td>\n",
       "      <td>1</td>\n",
       "      <td>31</td>\n",
       "      <td>2021-07-05 12:48:24.340016</td>\n",
       "    </tr>\n",
       "    <tr>\n",
       "      <th>3</th>\n",
       "      <td>865041000002</td>\n",
       "      <td>1.074244e+12</td>\n",
       "      <td>2021-06-24 16:01:00.000000</td>\n",
       "      <td>3</td>\n",
       "      <td>19</td>\n",
       "      <td>68.538462</td>\n",
       "      <td>1074243500089</td>\n",
       "      <td>865041000002</td>\n",
       "      <td>1</td>\n",
       "      <td>42</td>\n",
       "      <td>2021-06-22 20:17:26.295496</td>\n",
       "    </tr>\n",
       "    <tr>\n",
       "      <th>4</th>\n",
       "      <td>865041000002</td>\n",
       "      <td>1.074244e+12</td>\n",
       "      <td>2021-06-24 09:37:28.401409</td>\n",
       "      <td>3</td>\n",
       "      <td>10</td>\n",
       "      <td>104.692308</td>\n",
       "      <td>1074243500089</td>\n",
       "      <td>865041000002</td>\n",
       "      <td>1</td>\n",
       "      <td>42</td>\n",
       "      <td>2021-06-22 20:17:26.295496</td>\n",
       "    </tr>\n",
       "  </tbody>\n",
       "</table>\n",
       "</div>"
      ],
      "text/plain": [
       "        user_id       item_id                 event_time transaction_type  \\\n",
       "0  290613250103  1.099385e+12 2021-08-02 16:20:33.000000                3   \n",
       "1  879029000009  1.072236e+12 2021-09-22 08:33:16.000000                3   \n",
       "2  253395500010  1.082999e+12 2021-07-21 22:40:56.000000                3   \n",
       "3  865041000002  1.074244e+12 2021-06-24 16:01:00.000000                3   \n",
       "4  865041000002  1.074244e+12 2021-06-24 09:37:28.401409                3   \n",
       "\n",
       "  transaction_subtype  amount_net      item_id.1     user_id.1 item_vertical  \\\n",
       "0                  16   30.000000  1099385250423  290613250103             1   \n",
       "1                  17   42.307692  1072235500005  879029000009             1   \n",
       "2                  18   26.846154  1082999250118  253395500010             1   \n",
       "3                  19   68.538462  1074243500089  865041000002             1   \n",
       "4                  10  104.692308  1074243500089  865041000002             1   \n",
       "\n",
       "  item_region         item_creation_time  \n",
       "0          75 2021-08-02 16:17:26.063798  \n",
       "1          46 2021-06-21 06:41:56.826799  \n",
       "2          31 2021-07-05 12:48:24.340016  \n",
       "3          42 2021-06-22 20:17:26.295496  \n",
       "4          42 2021-06-22 20:17:26.295496  "
      ]
     },
     "execution_count": 15,
     "metadata": {},
     "output_type": "execute_result"
    }
   ],
   "source": [
    "df.head()"
   ]
  },
  {
   "cell_type": "markdown",
   "id": "fbced03d",
   "metadata": {},
   "source": [
    "О, теперь разные )"
   ]
  },
  {
   "cell_type": "code",
   "execution_count": 16,
   "id": "1af2c8c1",
   "metadata": {},
   "outputs": [],
   "source": [
    "df = df[df.columns[[0, 1, 2, 4, 5, 9, 10]]]"
   ]
  },
  {
   "cell_type": "code",
   "execution_count": 17,
   "id": "f0509b7a",
   "metadata": {},
   "outputs": [
    {
     "data": {
      "text/html": [
       "<div>\n",
       "<style scoped>\n",
       "    .dataframe tbody tr th:only-of-type {\n",
       "        vertical-align: middle;\n",
       "    }\n",
       "\n",
       "    .dataframe tbody tr th {\n",
       "        vertical-align: top;\n",
       "    }\n",
       "\n",
       "    .dataframe thead th {\n",
       "        text-align: right;\n",
       "    }\n",
       "</style>\n",
       "<table border=\"1\" class=\"dataframe\">\n",
       "  <thead>\n",
       "    <tr style=\"text-align: right;\">\n",
       "      <th></th>\n",
       "      <th>user_id</th>\n",
       "      <th>item_id</th>\n",
       "      <th>event_time</th>\n",
       "      <th>transaction_subtype</th>\n",
       "      <th>amount_net</th>\n",
       "      <th>item_region</th>\n",
       "      <th>item_creation_time</th>\n",
       "    </tr>\n",
       "  </thead>\n",
       "  <tbody>\n",
       "    <tr>\n",
       "      <th>0</th>\n",
       "      <td>290613250103</td>\n",
       "      <td>1.099385e+12</td>\n",
       "      <td>2021-08-02 16:20:33.000000</td>\n",
       "      <td>16</td>\n",
       "      <td>30.000000</td>\n",
       "      <td>75</td>\n",
       "      <td>2021-08-02 16:17:26.063798</td>\n",
       "    </tr>\n",
       "    <tr>\n",
       "      <th>1</th>\n",
       "      <td>879029000009</td>\n",
       "      <td>1.072236e+12</td>\n",
       "      <td>2021-09-22 08:33:16.000000</td>\n",
       "      <td>17</td>\n",
       "      <td>42.307692</td>\n",
       "      <td>46</td>\n",
       "      <td>2021-06-21 06:41:56.826799</td>\n",
       "    </tr>\n",
       "    <tr>\n",
       "      <th>2</th>\n",
       "      <td>253395500010</td>\n",
       "      <td>1.082999e+12</td>\n",
       "      <td>2021-07-21 22:40:56.000000</td>\n",
       "      <td>18</td>\n",
       "      <td>26.846154</td>\n",
       "      <td>31</td>\n",
       "      <td>2021-07-05 12:48:24.340016</td>\n",
       "    </tr>\n",
       "    <tr>\n",
       "      <th>3</th>\n",
       "      <td>865041000002</td>\n",
       "      <td>1.074244e+12</td>\n",
       "      <td>2021-06-24 16:01:00.000000</td>\n",
       "      <td>19</td>\n",
       "      <td>68.538462</td>\n",
       "      <td>42</td>\n",
       "      <td>2021-06-22 20:17:26.295496</td>\n",
       "    </tr>\n",
       "    <tr>\n",
       "      <th>4</th>\n",
       "      <td>865041000002</td>\n",
       "      <td>1.074244e+12</td>\n",
       "      <td>2021-06-24 09:37:28.401409</td>\n",
       "      <td>10</td>\n",
       "      <td>104.692308</td>\n",
       "      <td>42</td>\n",
       "      <td>2021-06-22 20:17:26.295496</td>\n",
       "    </tr>\n",
       "  </tbody>\n",
       "</table>\n",
       "</div>"
      ],
      "text/plain": [
       "        user_id       item_id                 event_time transaction_subtype  \\\n",
       "0  290613250103  1.099385e+12 2021-08-02 16:20:33.000000                  16   \n",
       "1  879029000009  1.072236e+12 2021-09-22 08:33:16.000000                  17   \n",
       "2  253395500010  1.082999e+12 2021-07-21 22:40:56.000000                  18   \n",
       "3  865041000002  1.074244e+12 2021-06-24 16:01:00.000000                  19   \n",
       "4  865041000002  1.074244e+12 2021-06-24 09:37:28.401409                  10   \n",
       "\n",
       "   amount_net item_region         item_creation_time  \n",
       "0   30.000000          75 2021-08-02 16:17:26.063798  \n",
       "1   42.307692          46 2021-06-21 06:41:56.826799  \n",
       "2   26.846154          31 2021-07-05 12:48:24.340016  \n",
       "3   68.538462          42 2021-06-22 20:17:26.295496  \n",
       "4  104.692308          42 2021-06-22 20:17:26.295496  "
      ]
     },
     "execution_count": 17,
     "metadata": {},
     "output_type": "execute_result"
    }
   ],
   "source": [
    "df.head()"
   ]
  },
  {
   "cell_type": "markdown",
   "id": "7d4b5527",
   "metadata": {},
   "source": [
    "Ну и, наверное, будет проще сразу сджойнить с информацией по юзерам и таблицей с верификацией."
   ]
  },
  {
   "cell_type": "code",
   "execution_count": 18,
   "id": "e28b9d27",
   "metadata": {},
   "outputs": [],
   "source": [
    "df1 = df.merge(user_info, on='user_id', how='left')"
   ]
  },
  {
   "cell_type": "code",
   "execution_count": 19,
   "id": "51fbefd9",
   "metadata": {},
   "outputs": [
    {
     "data": {
      "text/html": [
       "<div>\n",
       "<style scoped>\n",
       "    .dataframe tbody tr th:only-of-type {\n",
       "        vertical-align: middle;\n",
       "    }\n",
       "\n",
       "    .dataframe tbody tr th {\n",
       "        vertical-align: top;\n",
       "    }\n",
       "\n",
       "    .dataframe thead th {\n",
       "        text-align: right;\n",
       "    }\n",
       "</style>\n",
       "<table border=\"1\" class=\"dataframe\">\n",
       "  <thead>\n",
       "    <tr style=\"text-align: right;\">\n",
       "      <th></th>\n",
       "      <th>user_id</th>\n",
       "      <th>item_id</th>\n",
       "      <th>event_time</th>\n",
       "      <th>transaction_subtype</th>\n",
       "      <th>amount_net</th>\n",
       "      <th>item_region</th>\n",
       "      <th>item_creation_time</th>\n",
       "      <th>experiment_group</th>\n",
       "      <th>UserType</th>\n",
       "      <th>RegistrationTime</th>\n",
       "    </tr>\n",
       "  </thead>\n",
       "  <tbody>\n",
       "    <tr>\n",
       "      <th>0</th>\n",
       "      <td>290613250103</td>\n",
       "      <td>1.099385e+12</td>\n",
       "      <td>2021-08-02 16:20:33.000000</td>\n",
       "      <td>16</td>\n",
       "      <td>30.000000</td>\n",
       "      <td>75</td>\n",
       "      <td>2021-08-02 16:17:26.063798</td>\n",
       "      <td>60_discount</td>\n",
       "      <td>Private</td>\n",
       "      <td>2017-02-12 10:26:05.467496</td>\n",
       "    </tr>\n",
       "    <tr>\n",
       "      <th>1</th>\n",
       "      <td>879029000009</td>\n",
       "      <td>1.072236e+12</td>\n",
       "      <td>2021-09-22 08:33:16.000000</td>\n",
       "      <td>17</td>\n",
       "      <td>42.307692</td>\n",
       "      <td>46</td>\n",
       "      <td>2021-06-21 06:41:56.826799</td>\n",
       "      <td>60_discount</td>\n",
       "      <td>Private</td>\n",
       "      <td>2021-06-21 06:21:00.208680</td>\n",
       "    </tr>\n",
       "    <tr>\n",
       "      <th>2</th>\n",
       "      <td>253395500010</td>\n",
       "      <td>1.082999e+12</td>\n",
       "      <td>2021-07-21 22:40:56.000000</td>\n",
       "      <td>18</td>\n",
       "      <td>26.846154</td>\n",
       "      <td>31</td>\n",
       "      <td>2021-07-05 12:48:24.340016</td>\n",
       "      <td>no_discount</td>\n",
       "      <td>Private</td>\n",
       "      <td>2016-09-25 04:38:05.875127</td>\n",
       "    </tr>\n",
       "    <tr>\n",
       "      <th>3</th>\n",
       "      <td>865041000002</td>\n",
       "      <td>1.074244e+12</td>\n",
       "      <td>2021-06-24 16:01:00.000000</td>\n",
       "      <td>19</td>\n",
       "      <td>68.538462</td>\n",
       "      <td>42</td>\n",
       "      <td>2021-06-22 20:17:26.295496</td>\n",
       "      <td>30_discount</td>\n",
       "      <td>Private</td>\n",
       "      <td>2021-05-27 18:50:16.175609</td>\n",
       "    </tr>\n",
       "    <tr>\n",
       "      <th>4</th>\n",
       "      <td>865041000002</td>\n",
       "      <td>1.074244e+12</td>\n",
       "      <td>2021-06-24 09:37:28.401409</td>\n",
       "      <td>10</td>\n",
       "      <td>104.692308</td>\n",
       "      <td>42</td>\n",
       "      <td>2021-06-22 20:17:26.295496</td>\n",
       "      <td>30_discount</td>\n",
       "      <td>Private</td>\n",
       "      <td>2021-05-27 18:50:16.175609</td>\n",
       "    </tr>\n",
       "  </tbody>\n",
       "</table>\n",
       "</div>"
      ],
      "text/plain": [
       "        user_id       item_id                 event_time transaction_subtype  \\\n",
       "0  290613250103  1.099385e+12 2021-08-02 16:20:33.000000                  16   \n",
       "1  879029000009  1.072236e+12 2021-09-22 08:33:16.000000                  17   \n",
       "2  253395500010  1.082999e+12 2021-07-21 22:40:56.000000                  18   \n",
       "3  865041000002  1.074244e+12 2021-06-24 16:01:00.000000                  19   \n",
       "4  865041000002  1.074244e+12 2021-06-24 09:37:28.401409                  10   \n",
       "\n",
       "   amount_net item_region         item_creation_time experiment_group  \\\n",
       "0   30.000000          75 2021-08-02 16:17:26.063798      60_discount   \n",
       "1   42.307692          46 2021-06-21 06:41:56.826799      60_discount   \n",
       "2   26.846154          31 2021-07-05 12:48:24.340016      no_discount   \n",
       "3   68.538462          42 2021-06-22 20:17:26.295496      30_discount   \n",
       "4  104.692308          42 2021-06-22 20:17:26.295496      30_discount   \n",
       "\n",
       "  UserType           RegistrationTime  \n",
       "0  Private 2017-02-12 10:26:05.467496  \n",
       "1  Private 2021-06-21 06:21:00.208680  \n",
       "2  Private 2016-09-25 04:38:05.875127  \n",
       "3  Private 2021-05-27 18:50:16.175609  \n",
       "4  Private 2021-05-27 18:50:16.175609  "
      ]
     },
     "execution_count": 19,
     "metadata": {},
     "output_type": "execute_result"
    }
   ],
   "source": [
    "df1.head()"
   ]
  },
  {
   "cell_type": "markdown",
   "id": "e1bd2e25",
   "metadata": {},
   "source": [
    "Сразу доберем в датасет информацию с верификациями, чтобы потом не возвращаться."
   ]
  },
  {
   "cell_type": "code",
   "execution_count": 20,
   "id": "c9137966",
   "metadata": {},
   "outputs": [],
   "source": [
    "data = df1.merge(verification_info, on=['user_id', 'item_id'], how='left')"
   ]
  },
  {
   "cell_type": "code",
   "execution_count": 21,
   "id": "eb71bdf9",
   "metadata": {},
   "outputs": [
    {
     "data": {
      "text/html": [
       "<div>\n",
       "<style scoped>\n",
       "    .dataframe tbody tr th:only-of-type {\n",
       "        vertical-align: middle;\n",
       "    }\n",
       "\n",
       "    .dataframe tbody tr th {\n",
       "        vertical-align: top;\n",
       "    }\n",
       "\n",
       "    .dataframe thead th {\n",
       "        text-align: right;\n",
       "    }\n",
       "</style>\n",
       "<table border=\"1\" class=\"dataframe\">\n",
       "  <thead>\n",
       "    <tr style=\"text-align: right;\">\n",
       "      <th></th>\n",
       "      <th>user_id</th>\n",
       "      <th>item_id</th>\n",
       "      <th>event_time</th>\n",
       "      <th>transaction_subtype</th>\n",
       "      <th>amount_net</th>\n",
       "      <th>item_region</th>\n",
       "      <th>item_creation_time</th>\n",
       "      <th>experiment_group</th>\n",
       "      <th>UserType</th>\n",
       "      <th>RegistrationTime</th>\n",
       "      <th>discount_day</th>\n",
       "      <th>experiment</th>\n",
       "    </tr>\n",
       "  </thead>\n",
       "  <tbody>\n",
       "    <tr>\n",
       "      <th>0</th>\n",
       "      <td>290613250103</td>\n",
       "      <td>1.099385e+12</td>\n",
       "      <td>2021-08-02 16:20:33.000000</td>\n",
       "      <td>16</td>\n",
       "      <td>30.000000</td>\n",
       "      <td>75</td>\n",
       "      <td>2021-08-02 16:17:26.063798</td>\n",
       "      <td>60_discount</td>\n",
       "      <td>Private</td>\n",
       "      <td>2017-02-12 10:26:05.467496</td>\n",
       "      <td>NaT</td>\n",
       "      <td>NaN</td>\n",
       "    </tr>\n",
       "    <tr>\n",
       "      <th>1</th>\n",
       "      <td>879029000009</td>\n",
       "      <td>1.072236e+12</td>\n",
       "      <td>2021-09-22 08:33:16.000000</td>\n",
       "      <td>17</td>\n",
       "      <td>42.307692</td>\n",
       "      <td>46</td>\n",
       "      <td>2021-06-21 06:41:56.826799</td>\n",
       "      <td>60_discount</td>\n",
       "      <td>Private</td>\n",
       "      <td>2021-06-21 06:21:00.208680</td>\n",
       "      <td>2021-09-23</td>\n",
       "      <td>1_verification_test</td>\n",
       "    </tr>\n",
       "    <tr>\n",
       "      <th>2</th>\n",
       "      <td>253395500010</td>\n",
       "      <td>1.082999e+12</td>\n",
       "      <td>2021-07-21 22:40:56.000000</td>\n",
       "      <td>18</td>\n",
       "      <td>26.846154</td>\n",
       "      <td>31</td>\n",
       "      <td>2021-07-05 12:48:24.340016</td>\n",
       "      <td>no_discount</td>\n",
       "      <td>Private</td>\n",
       "      <td>2016-09-25 04:38:05.875127</td>\n",
       "      <td>NaT</td>\n",
       "      <td>NaN</td>\n",
       "    </tr>\n",
       "    <tr>\n",
       "      <th>3</th>\n",
       "      <td>865041000002</td>\n",
       "      <td>1.074244e+12</td>\n",
       "      <td>2021-06-24 16:01:00.000000</td>\n",
       "      <td>19</td>\n",
       "      <td>68.538462</td>\n",
       "      <td>42</td>\n",
       "      <td>2021-06-22 20:17:26.295496</td>\n",
       "      <td>30_discount</td>\n",
       "      <td>Private</td>\n",
       "      <td>2021-05-27 18:50:16.175609</td>\n",
       "      <td>NaT</td>\n",
       "      <td>NaN</td>\n",
       "    </tr>\n",
       "    <tr>\n",
       "      <th>4</th>\n",
       "      <td>865041000002</td>\n",
       "      <td>1.074244e+12</td>\n",
       "      <td>2021-06-24 09:37:28.401409</td>\n",
       "      <td>10</td>\n",
       "      <td>104.692308</td>\n",
       "      <td>42</td>\n",
       "      <td>2021-06-22 20:17:26.295496</td>\n",
       "      <td>30_discount</td>\n",
       "      <td>Private</td>\n",
       "      <td>2021-05-27 18:50:16.175609</td>\n",
       "      <td>NaT</td>\n",
       "      <td>NaN</td>\n",
       "    </tr>\n",
       "  </tbody>\n",
       "</table>\n",
       "</div>"
      ],
      "text/plain": [
       "        user_id       item_id                 event_time transaction_subtype  \\\n",
       "0  290613250103  1.099385e+12 2021-08-02 16:20:33.000000                  16   \n",
       "1  879029000009  1.072236e+12 2021-09-22 08:33:16.000000                  17   \n",
       "2  253395500010  1.082999e+12 2021-07-21 22:40:56.000000                  18   \n",
       "3  865041000002  1.074244e+12 2021-06-24 16:01:00.000000                  19   \n",
       "4  865041000002  1.074244e+12 2021-06-24 09:37:28.401409                  10   \n",
       "\n",
       "   amount_net item_region         item_creation_time experiment_group  \\\n",
       "0   30.000000          75 2021-08-02 16:17:26.063798      60_discount   \n",
       "1   42.307692          46 2021-06-21 06:41:56.826799      60_discount   \n",
       "2   26.846154          31 2021-07-05 12:48:24.340016      no_discount   \n",
       "3   68.538462          42 2021-06-22 20:17:26.295496      30_discount   \n",
       "4  104.692308          42 2021-06-22 20:17:26.295496      30_discount   \n",
       "\n",
       "  UserType           RegistrationTime discount_day           experiment  \n",
       "0  Private 2017-02-12 10:26:05.467496          NaT                  NaN  \n",
       "1  Private 2021-06-21 06:21:00.208680   2021-09-23  1_verification_test  \n",
       "2  Private 2016-09-25 04:38:05.875127          NaT                  NaN  \n",
       "3  Private 2021-05-27 18:50:16.175609          NaT                  NaN  \n",
       "4  Private 2021-05-27 18:50:16.175609          NaT                  NaN  "
      ]
     },
     "execution_count": 21,
     "metadata": {},
     "output_type": "execute_result"
    }
   ],
   "source": [
    "data.head()"
   ]
  },
  {
   "cell_type": "markdown",
   "id": "cddd50bb",
   "metadata": {},
   "source": [
    "Худо-бедно датасет собран. Идем считать метрики."
   ]
  },
  {
   "cell_type": "markdown",
   "id": "d70fb565",
   "metadata": {},
   "source": [
    "## Подсчет item_per_users, ARPU в группах до начала эксперимента"
   ]
  },
  {
   "cell_type": "markdown",
   "id": "d53e4df7",
   "metadata": {},
   "source": [
    "### item_per_users"
   ]
  },
  {
   "cell_type": "markdown",
   "id": "88b9e827",
   "metadata": {},
   "source": [
    "Первым делом посчитаем item_per_user. Нас интересуют объявления, созданные до начала эксперимента: 2021-09-15, фильтровать будем item_creation_time этой датой."
   ]
  },
  {
   "cell_type": "code",
   "execution_count": 22,
   "id": "5c19d74b",
   "metadata": {},
   "outputs": [],
   "source": [
    "df_for_item_per_users = data[['user_id', 'item_id', 'item_creation_time', 'experiment_group']]"
   ]
  },
  {
   "cell_type": "code",
   "execution_count": 23,
   "id": "4d35a50b",
   "metadata": {},
   "outputs": [
    {
     "data": {
      "text/html": [
       "<div>\n",
       "<style scoped>\n",
       "    .dataframe tbody tr th:only-of-type {\n",
       "        vertical-align: middle;\n",
       "    }\n",
       "\n",
       "    .dataframe tbody tr th {\n",
       "        vertical-align: top;\n",
       "    }\n",
       "\n",
       "    .dataframe thead th {\n",
       "        text-align: right;\n",
       "    }\n",
       "</style>\n",
       "<table border=\"1\" class=\"dataframe\">\n",
       "  <thead>\n",
       "    <tr style=\"text-align: right;\">\n",
       "      <th></th>\n",
       "      <th>user_id</th>\n",
       "      <th>item_id</th>\n",
       "      <th>item_creation_time</th>\n",
       "      <th>experiment_group</th>\n",
       "    </tr>\n",
       "  </thead>\n",
       "  <tbody>\n",
       "    <tr>\n",
       "      <th>0</th>\n",
       "      <td>290613250103</td>\n",
       "      <td>1.099385e+12</td>\n",
       "      <td>2021-08-02 16:17:26.063798</td>\n",
       "      <td>60_discount</td>\n",
       "    </tr>\n",
       "    <tr>\n",
       "      <th>1</th>\n",
       "      <td>879029000009</td>\n",
       "      <td>1.072236e+12</td>\n",
       "      <td>2021-06-21 06:41:56.826799</td>\n",
       "      <td>60_discount</td>\n",
       "    </tr>\n",
       "    <tr>\n",
       "      <th>2</th>\n",
       "      <td>253395500010</td>\n",
       "      <td>1.082999e+12</td>\n",
       "      <td>2021-07-05 12:48:24.340016</td>\n",
       "      <td>no_discount</td>\n",
       "    </tr>\n",
       "    <tr>\n",
       "      <th>3</th>\n",
       "      <td>865041000002</td>\n",
       "      <td>1.074244e+12</td>\n",
       "      <td>2021-06-22 20:17:26.295496</td>\n",
       "      <td>30_discount</td>\n",
       "    </tr>\n",
       "    <tr>\n",
       "      <th>4</th>\n",
       "      <td>865041000002</td>\n",
       "      <td>1.074244e+12</td>\n",
       "      <td>2021-06-22 20:17:26.295496</td>\n",
       "      <td>30_discount</td>\n",
       "    </tr>\n",
       "  </tbody>\n",
       "</table>\n",
       "</div>"
      ],
      "text/plain": [
       "        user_id       item_id         item_creation_time experiment_group\n",
       "0  290613250103  1.099385e+12 2021-08-02 16:17:26.063798      60_discount\n",
       "1  879029000009  1.072236e+12 2021-06-21 06:41:56.826799      60_discount\n",
       "2  253395500010  1.082999e+12 2021-07-05 12:48:24.340016      no_discount\n",
       "3  865041000002  1.074244e+12 2021-06-22 20:17:26.295496      30_discount\n",
       "4  865041000002  1.074244e+12 2021-06-22 20:17:26.295496      30_discount"
      ]
     },
     "execution_count": 23,
     "metadata": {},
     "output_type": "execute_result"
    }
   ],
   "source": [
    "df_for_item_per_users.head()"
   ]
  },
  {
   "cell_type": "code",
   "execution_count": 24,
   "id": "07213885",
   "metadata": {},
   "outputs": [],
   "source": [
    "df_for_item_per_users['item_creation_time'] = pd.to_datetime(df_for_item_per_users['item_creation_time'])"
   ]
  },
  {
   "cell_type": "code",
   "execution_count": 25,
   "id": "dada0a95",
   "metadata": {},
   "outputs": [],
   "source": [
    "df_for_item_per_users_before_test = df_for_item_per_users[df_for_item_per_users['item_creation_time'] < '2021-09-15']"
   ]
  },
  {
   "cell_type": "code",
   "execution_count": 26,
   "id": "8a4da3fe",
   "metadata": {},
   "outputs": [],
   "source": [
    "item_counts = df_for_item_per_users_before_test.groupby(['experiment_group', 'user_id'])[['item_id']].count()"
   ]
  },
  {
   "cell_type": "code",
   "execution_count": 27,
   "id": "fe8d32cd",
   "metadata": {},
   "outputs": [
    {
     "data": {
      "text/html": [
       "<div>\n",
       "<style scoped>\n",
       "    .dataframe tbody tr th:only-of-type {\n",
       "        vertical-align: middle;\n",
       "    }\n",
       "\n",
       "    .dataframe tbody tr th {\n",
       "        vertical-align: top;\n",
       "    }\n",
       "\n",
       "    .dataframe thead th {\n",
       "        text-align: right;\n",
       "    }\n",
       "</style>\n",
       "<table border=\"1\" class=\"dataframe\">\n",
       "  <thead>\n",
       "    <tr style=\"text-align: right;\">\n",
       "      <th></th>\n",
       "      <th></th>\n",
       "      <th>item_id</th>\n",
       "    </tr>\n",
       "    <tr>\n",
       "      <th>experiment_group</th>\n",
       "      <th>user_id</th>\n",
       "      <th></th>\n",
       "    </tr>\n",
       "  </thead>\n",
       "  <tbody>\n",
       "    <tr>\n",
       "      <th rowspan=\"5\" valign=\"top\">30_discount</th>\n",
       "      <th>789</th>\n",
       "      <td>1</td>\n",
       "    </tr>\n",
       "    <tr>\n",
       "      <th>2893</th>\n",
       "      <td>3</td>\n",
       "    </tr>\n",
       "    <tr>\n",
       "      <th>3449</th>\n",
       "      <td>2</td>\n",
       "    </tr>\n",
       "    <tr>\n",
       "      <th>3789</th>\n",
       "      <td>2</td>\n",
       "    </tr>\n",
       "    <tr>\n",
       "      <th>4137</th>\n",
       "      <td>5</td>\n",
       "    </tr>\n",
       "  </tbody>\n",
       "</table>\n",
       "</div>"
      ],
      "text/plain": [
       "                          item_id\n",
       "experiment_group user_id         \n",
       "30_discount      789            1\n",
       "                 2893           3\n",
       "                 3449           2\n",
       "                 3789           2\n",
       "                 4137           5"
      ]
     },
     "execution_count": 27,
     "metadata": {},
     "output_type": "execute_result"
    }
   ],
   "source": [
    "item_counts.head()"
   ]
  },
  {
   "cell_type": "markdown",
   "id": "406bab90",
   "metadata": {},
   "source": [
    "Небольшой тест: действительно у юзера 2893 создано три объявления до 15 сентября"
   ]
  },
  {
   "cell_type": "code",
   "execution_count": 28,
   "id": "25b610d1",
   "metadata": {
    "scrolled": true
   },
   "outputs": [
    {
     "data": {
      "text/html": [
       "<div>\n",
       "<style scoped>\n",
       "    .dataframe tbody tr th:only-of-type {\n",
       "        vertical-align: middle;\n",
       "    }\n",
       "\n",
       "    .dataframe tbody tr th {\n",
       "        vertical-align: top;\n",
       "    }\n",
       "\n",
       "    .dataframe thead th {\n",
       "        text-align: right;\n",
       "    }\n",
       "</style>\n",
       "<table border=\"1\" class=\"dataframe\">\n",
       "  <thead>\n",
       "    <tr style=\"text-align: right;\">\n",
       "      <th></th>\n",
       "      <th>user_id</th>\n",
       "      <th>item_id</th>\n",
       "      <th>event_time</th>\n",
       "      <th>transaction_subtype</th>\n",
       "      <th>amount_net</th>\n",
       "      <th>item_region</th>\n",
       "      <th>item_creation_time</th>\n",
       "      <th>experiment_group</th>\n",
       "      <th>UserType</th>\n",
       "      <th>RegistrationTime</th>\n",
       "      <th>discount_day</th>\n",
       "      <th>experiment</th>\n",
       "    </tr>\n",
       "  </thead>\n",
       "  <tbody>\n",
       "    <tr>\n",
       "      <th>182820</th>\n",
       "      <td>2893</td>\n",
       "      <td>1.165118e+12</td>\n",
       "      <td>2021-11-24 09:56:45</td>\n",
       "      <td>10</td>\n",
       "      <td>101.538462</td>\n",
       "      <td>25</td>\n",
       "      <td>2021-11-24 09:56:48.784227</td>\n",
       "      <td>30_discount</td>\n",
       "      <td>Private</td>\n",
       "      <td>2010-12-24 08:48:26.573836</td>\n",
       "      <td>NaT</td>\n",
       "      <td>NaN</td>\n",
       "    </tr>\n",
       "    <tr>\n",
       "      <th>375810</th>\n",
       "      <td>2893</td>\n",
       "      <td>8.759838e+11</td>\n",
       "      <td>2021-08-24 06:45:39</td>\n",
       "      <td>10</td>\n",
       "      <td>101.538462</td>\n",
       "      <td>25</td>\n",
       "      <td>2020-08-25 10:37:17.954182</td>\n",
       "      <td>30_discount</td>\n",
       "      <td>Private</td>\n",
       "      <td>2010-12-24 08:48:26.573836</td>\n",
       "      <td>NaT</td>\n",
       "      <td>NaN</td>\n",
       "    </tr>\n",
       "    <tr>\n",
       "      <th>433891</th>\n",
       "      <td>2893</td>\n",
       "      <td>8.912750e+11</td>\n",
       "      <td>2021-09-06 13:17:12</td>\n",
       "      <td>10</td>\n",
       "      <td>50.846154</td>\n",
       "      <td>25</td>\n",
       "      <td>2020-09-20 23:32:12.640702</td>\n",
       "      <td>30_discount</td>\n",
       "      <td>Private</td>\n",
       "      <td>2010-12-24 08:48:26.573836</td>\n",
       "      <td>NaT</td>\n",
       "      <td>NaN</td>\n",
       "    </tr>\n",
       "    <tr>\n",
       "      <th>530030</th>\n",
       "      <td>2893</td>\n",
       "      <td>7.824090e+11</td>\n",
       "      <td>2021-08-01 12:47:52</td>\n",
       "      <td>10</td>\n",
       "      <td>50.846154</td>\n",
       "      <td>25</td>\n",
       "      <td>2020-01-21 22:44:31.264369</td>\n",
       "      <td>30_discount</td>\n",
       "      <td>Private</td>\n",
       "      <td>2010-12-24 08:48:26.573836</td>\n",
       "      <td>NaT</td>\n",
       "      <td>NaN</td>\n",
       "    </tr>\n",
       "  </tbody>\n",
       "</table>\n",
       "</div>"
      ],
      "text/plain": [
       "        user_id       item_id          event_time transaction_subtype  \\\n",
       "182820     2893  1.165118e+12 2021-11-24 09:56:45                  10   \n",
       "375810     2893  8.759838e+11 2021-08-24 06:45:39                  10   \n",
       "433891     2893  8.912750e+11 2021-09-06 13:17:12                  10   \n",
       "530030     2893  7.824090e+11 2021-08-01 12:47:52                  10   \n",
       "\n",
       "        amount_net item_region         item_creation_time experiment_group  \\\n",
       "182820  101.538462          25 2021-11-24 09:56:48.784227      30_discount   \n",
       "375810  101.538462          25 2020-08-25 10:37:17.954182      30_discount   \n",
       "433891   50.846154          25 2020-09-20 23:32:12.640702      30_discount   \n",
       "530030   50.846154          25 2020-01-21 22:44:31.264369      30_discount   \n",
       "\n",
       "       UserType           RegistrationTime discount_day experiment  \n",
       "182820  Private 2010-12-24 08:48:26.573836          NaT        NaN  \n",
       "375810  Private 2010-12-24 08:48:26.573836          NaT        NaN  \n",
       "433891  Private 2010-12-24 08:48:26.573836          NaT        NaN  \n",
       "530030  Private 2010-12-24 08:48:26.573836          NaT        NaN  "
      ]
     },
     "execution_count": 28,
     "metadata": {},
     "output_type": "execute_result"
    }
   ],
   "source": [
    "data.loc[(data['experiment_group'] == '30_discount') & (data['user_id'] == 2893)]"
   ]
  },
  {
   "cell_type": "markdown",
   "id": "81a72428",
   "metadata": {},
   "source": [
    "Найдем среднее количество items на одного юзера в каждой группе:"
   ]
  },
  {
   "cell_type": "code",
   "execution_count": 29,
   "id": "6dc5159a",
   "metadata": {},
   "outputs": [],
   "source": [
    "mean_item_per_user = item_counts.groupby('experiment_group').mean()"
   ]
  },
  {
   "cell_type": "code",
   "execution_count": 30,
   "id": "8485661d",
   "metadata": {},
   "outputs": [
    {
     "data": {
      "text/html": [
       "<div>\n",
       "<style scoped>\n",
       "    .dataframe tbody tr th:only-of-type {\n",
       "        vertical-align: middle;\n",
       "    }\n",
       "\n",
       "    .dataframe tbody tr th {\n",
       "        vertical-align: top;\n",
       "    }\n",
       "\n",
       "    .dataframe thead th {\n",
       "        text-align: right;\n",
       "    }\n",
       "</style>\n",
       "<table border=\"1\" class=\"dataframe\">\n",
       "  <thead>\n",
       "    <tr style=\"text-align: right;\">\n",
       "      <th></th>\n",
       "      <th>item_id</th>\n",
       "    </tr>\n",
       "    <tr>\n",
       "      <th>experiment_group</th>\n",
       "      <th></th>\n",
       "    </tr>\n",
       "  </thead>\n",
       "  <tbody>\n",
       "    <tr>\n",
       "      <th>30_discount</th>\n",
       "      <td>6.352235</td>\n",
       "    </tr>\n",
       "    <tr>\n",
       "      <th>60_discount</th>\n",
       "      <td>6.590310</td>\n",
       "    </tr>\n",
       "    <tr>\n",
       "      <th>no_discount</th>\n",
       "      <td>6.162525</td>\n",
       "    </tr>\n",
       "  </tbody>\n",
       "</table>\n",
       "</div>"
      ],
      "text/plain": [
       "                   item_id\n",
       "experiment_group          \n",
       "30_discount       6.352235\n",
       "60_discount       6.590310\n",
       "no_discount       6.162525"
      ]
     },
     "execution_count": 30,
     "metadata": {},
     "output_type": "execute_result"
    }
   ],
   "source": [
    "mean_item_per_user"
   ]
  },
  {
   "cell_type": "markdown",
   "id": "6c6f2c74",
   "metadata": {},
   "source": [
    "### ARPU"
   ]
  },
  {
   "cell_type": "markdown",
   "id": "b35ec0fa",
   "metadata": {},
   "source": [
    "Для подсчета ARPU до теста будем ограничивать event_time - время покупки"
   ]
  },
  {
   "cell_type": "code",
   "execution_count": 31,
   "id": "76a2e611",
   "metadata": {},
   "outputs": [],
   "source": [
    "df_for_ARPU = data[['user_id', 'item_id', 'event_time', 'experiment_group', 'amount_net']]"
   ]
  },
  {
   "cell_type": "code",
   "execution_count": 32,
   "id": "52aaa610",
   "metadata": {},
   "outputs": [
    {
     "data": {
      "text/html": [
       "<div>\n",
       "<style scoped>\n",
       "    .dataframe tbody tr th:only-of-type {\n",
       "        vertical-align: middle;\n",
       "    }\n",
       "\n",
       "    .dataframe tbody tr th {\n",
       "        vertical-align: top;\n",
       "    }\n",
       "\n",
       "    .dataframe thead th {\n",
       "        text-align: right;\n",
       "    }\n",
       "</style>\n",
       "<table border=\"1\" class=\"dataframe\">\n",
       "  <thead>\n",
       "    <tr style=\"text-align: right;\">\n",
       "      <th></th>\n",
       "      <th>user_id</th>\n",
       "      <th>item_id</th>\n",
       "      <th>event_time</th>\n",
       "      <th>experiment_group</th>\n",
       "      <th>amount_net</th>\n",
       "    </tr>\n",
       "  </thead>\n",
       "  <tbody>\n",
       "    <tr>\n",
       "      <th>0</th>\n",
       "      <td>290613250103</td>\n",
       "      <td>1.099385e+12</td>\n",
       "      <td>2021-08-02 16:20:33.000000</td>\n",
       "      <td>60_discount</td>\n",
       "      <td>30.000000</td>\n",
       "    </tr>\n",
       "    <tr>\n",
       "      <th>1</th>\n",
       "      <td>879029000009</td>\n",
       "      <td>1.072236e+12</td>\n",
       "      <td>2021-09-22 08:33:16.000000</td>\n",
       "      <td>60_discount</td>\n",
       "      <td>42.307692</td>\n",
       "    </tr>\n",
       "    <tr>\n",
       "      <th>2</th>\n",
       "      <td>253395500010</td>\n",
       "      <td>1.082999e+12</td>\n",
       "      <td>2021-07-21 22:40:56.000000</td>\n",
       "      <td>no_discount</td>\n",
       "      <td>26.846154</td>\n",
       "    </tr>\n",
       "    <tr>\n",
       "      <th>3</th>\n",
       "      <td>865041000002</td>\n",
       "      <td>1.074244e+12</td>\n",
       "      <td>2021-06-24 16:01:00.000000</td>\n",
       "      <td>30_discount</td>\n",
       "      <td>68.538462</td>\n",
       "    </tr>\n",
       "    <tr>\n",
       "      <th>4</th>\n",
       "      <td>865041000002</td>\n",
       "      <td>1.074244e+12</td>\n",
       "      <td>2021-06-24 09:37:28.401409</td>\n",
       "      <td>30_discount</td>\n",
       "      <td>104.692308</td>\n",
       "    </tr>\n",
       "  </tbody>\n",
       "</table>\n",
       "</div>"
      ],
      "text/plain": [
       "        user_id       item_id                 event_time experiment_group  \\\n",
       "0  290613250103  1.099385e+12 2021-08-02 16:20:33.000000      60_discount   \n",
       "1  879029000009  1.072236e+12 2021-09-22 08:33:16.000000      60_discount   \n",
       "2  253395500010  1.082999e+12 2021-07-21 22:40:56.000000      no_discount   \n",
       "3  865041000002  1.074244e+12 2021-06-24 16:01:00.000000      30_discount   \n",
       "4  865041000002  1.074244e+12 2021-06-24 09:37:28.401409      30_discount   \n",
       "\n",
       "   amount_net  \n",
       "0   30.000000  \n",
       "1   42.307692  \n",
       "2   26.846154  \n",
       "3   68.538462  \n",
       "4  104.692308  "
      ]
     },
     "execution_count": 32,
     "metadata": {},
     "output_type": "execute_result"
    }
   ],
   "source": [
    "df_for_ARPU.head()"
   ]
  },
  {
   "cell_type": "markdown",
   "id": "81577e00",
   "metadata": {},
   "source": [
    "Аналогично, ограничим время:"
   ]
  },
  {
   "cell_type": "code",
   "execution_count": 33,
   "id": "dbd30b86",
   "metadata": {},
   "outputs": [],
   "source": [
    "df_for_ARPU_before_test = df_for_ARPU[df_for_ARPU['event_time'] < '2021-09-15']"
   ]
  },
  {
   "cell_type": "markdown",
   "id": "3d7d788e",
   "metadata": {},
   "source": [
    "Посчитаем суммы платежей по юзерам:"
   ]
  },
  {
   "cell_type": "code",
   "execution_count": 34,
   "id": "72a491bb",
   "metadata": {},
   "outputs": [],
   "source": [
    "user_payments = df_for_ARPU_before_test.groupby(['experiment_group', 'user_id'])[['amount_net']].sum()"
   ]
  },
  {
   "cell_type": "code",
   "execution_count": 35,
   "id": "b6ad5826",
   "metadata": {},
   "outputs": [
    {
     "data": {
      "text/html": [
       "<div>\n",
       "<style scoped>\n",
       "    .dataframe tbody tr th:only-of-type {\n",
       "        vertical-align: middle;\n",
       "    }\n",
       "\n",
       "    .dataframe tbody tr th {\n",
       "        vertical-align: top;\n",
       "    }\n",
       "\n",
       "    .dataframe thead th {\n",
       "        text-align: right;\n",
       "    }\n",
       "</style>\n",
       "<table border=\"1\" class=\"dataframe\">\n",
       "  <thead>\n",
       "    <tr style=\"text-align: right;\">\n",
       "      <th></th>\n",
       "      <th></th>\n",
       "      <th>amount_net</th>\n",
       "    </tr>\n",
       "    <tr>\n",
       "      <th>experiment_group</th>\n",
       "      <th>user_id</th>\n",
       "      <th></th>\n",
       "    </tr>\n",
       "  </thead>\n",
       "  <tbody>\n",
       "    <tr>\n",
       "      <th rowspan=\"5\" valign=\"top\">30_discount</th>\n",
       "      <th>789</th>\n",
       "      <td>37.692308</td>\n",
       "    </tr>\n",
       "    <tr>\n",
       "      <th>2893</th>\n",
       "      <td>203.230769</td>\n",
       "    </tr>\n",
       "    <tr>\n",
       "      <th>3449</th>\n",
       "      <td>69.307692</td>\n",
       "    </tr>\n",
       "    <tr>\n",
       "      <th>3789</th>\n",
       "      <td>60.153846</td>\n",
       "    </tr>\n",
       "    <tr>\n",
       "      <th>4137</th>\n",
       "      <td>40.461538</td>\n",
       "    </tr>\n",
       "  </tbody>\n",
       "</table>\n",
       "</div>"
      ],
      "text/plain": [
       "                          amount_net\n",
       "experiment_group user_id            \n",
       "30_discount      789       37.692308\n",
       "                 2893     203.230769\n",
       "                 3449      69.307692\n",
       "                 3789      60.153846\n",
       "                 4137      40.461538"
      ]
     },
     "execution_count": 35,
     "metadata": {},
     "output_type": "execute_result"
    }
   ],
   "source": [
    "user_payments.head()"
   ]
  },
  {
   "cell_type": "markdown",
   "id": "998156be",
   "metadata": {},
   "source": [
    "Для юзера 2893 в тесте выше сумма сходится )"
   ]
  },
  {
   "cell_type": "markdown",
   "id": "fd6d6f35",
   "metadata": {},
   "source": [
    "Посчитаем ARPU"
   ]
  },
  {
   "cell_type": "code",
   "execution_count": 36,
   "id": "3d0eb45d",
   "metadata": {},
   "outputs": [],
   "source": [
    "ARPU = user_payments.groupby('experiment_group').mean()"
   ]
  },
  {
   "cell_type": "code",
   "execution_count": 37,
   "id": "9f46fe98",
   "metadata": {},
   "outputs": [
    {
     "data": {
      "text/html": [
       "<div>\n",
       "<style scoped>\n",
       "    .dataframe tbody tr th:only-of-type {\n",
       "        vertical-align: middle;\n",
       "    }\n",
       "\n",
       "    .dataframe tbody tr th {\n",
       "        vertical-align: top;\n",
       "    }\n",
       "\n",
       "    .dataframe thead th {\n",
       "        text-align: right;\n",
       "    }\n",
       "</style>\n",
       "<table border=\"1\" class=\"dataframe\">\n",
       "  <thead>\n",
       "    <tr style=\"text-align: right;\">\n",
       "      <th></th>\n",
       "      <th>amount_net</th>\n",
       "    </tr>\n",
       "    <tr>\n",
       "      <th>experiment_group</th>\n",
       "      <th></th>\n",
       "    </tr>\n",
       "  </thead>\n",
       "  <tbody>\n",
       "    <tr>\n",
       "      <th>30_discount</th>\n",
       "      <td>230.898654</td>\n",
       "    </tr>\n",
       "    <tr>\n",
       "      <th>60_discount</th>\n",
       "      <td>239.768872</td>\n",
       "    </tr>\n",
       "    <tr>\n",
       "      <th>no_discount</th>\n",
       "      <td>226.872500</td>\n",
       "    </tr>\n",
       "  </tbody>\n",
       "</table>\n",
       "</div>"
      ],
      "text/plain": [
       "                  amount_net\n",
       "experiment_group            \n",
       "30_discount       230.898654\n",
       "60_discount       239.768872\n",
       "no_discount       226.872500"
      ]
     },
     "execution_count": 37,
     "metadata": {},
     "output_type": "execute_result"
    }
   ],
   "source": [
    "ARPU"
   ]
  },
  {
   "cell_type": "markdown",
   "id": "e6c6265e",
   "metadata": {},
   "source": [
    "### Выводы"
   ]
  },
  {
   "cell_type": "markdown",
   "id": "c36b18f7",
   "metadata": {},
   "source": [
    "Чтобы сделать выводы о схожести групп, применим тест на равенство средних попарно\n",
    "\n",
    "$$H_0: item-per-user_{test} = item-per-user_{control}$$\n",
    "$$H_1: item-per-user_{test} \\neq item-per-user_{control}$$\n",
    "\n",
    "То же самое и с ARPU:\n",
    "\n",
    "$$H_0: ARPU_{test} = ARPU_{control}$$\n",
    "$$H_1: ARPU_{test} \\neq ARPU_{control}$$\n",
    "\n",
    "Ожидаем принятия нулевых гипотез"
   ]
  },
  {
   "cell_type": "markdown",
   "id": "9a3178f7",
   "metadata": {},
   "source": [
    "Начнем с item_per_user"
   ]
  },
  {
   "cell_type": "code",
   "execution_count": 62,
   "id": "15216313",
   "metadata": {},
   "outputs": [],
   "source": [
    "item_counts = item_counts.reset_index()"
   ]
  },
  {
   "cell_type": "markdown",
   "id": "8d07eb78",
   "metadata": {},
   "source": [
    "Создаем группы для сравнения"
   ]
  },
  {
   "cell_type": "code",
   "execution_count": 63,
   "id": "756482bb",
   "metadata": {},
   "outputs": [],
   "source": [
    "groups = [('no_discount', '30_discount'), ('no_discount', '60_discount'), ('30_discount', '60_discount')] "
   ]
  },
  {
   "cell_type": "code",
   "execution_count": 64,
   "id": "32860f4d",
   "metadata": {},
   "outputs": [
    {
     "name": "stdout",
     "output_type": "stream",
     "text": [
      "Пара:('no_discount', '30_discount'), Разница средних:-0.1897, Pvalue:0.4138\n",
      "Пара:('no_discount', '60_discount'), Разница средних:-0.4278, Pvalue:0.2581\n",
      "Пара:('30_discount', '60_discount'), Разница средних:-0.2381, Pvalue:0.5352\n"
     ]
    }
   ],
   "source": [
    "for group in groups:\n",
    "    \n",
    "    # делим выборки на тест и контроль в зависимости от группы\n",
    "    test = item_counts[(item_counts['experiment_group'] == group[0])]\n",
    "    control = item_counts[(item_counts['experiment_group'] == group[1])]\n",
    "    \n",
    "    # применяем двувыборочный t-test без альтернативы (берем p-value)\n",
    "    pvalue = stats.ttest_ind(test['item_id'], control['item_id'])[1]\n",
    "    \n",
    "    # считаем разницу средних\n",
    "    difference_of_means = test['item_id'].mean() - control['item_id'].mean()\n",
    "    \n",
    "    # выводим результат\n",
    "    print(f'Пара:{group}, Разница средних:{round(difference_of_means, 4)}, Pvalue:{round(pvalue, 4)}')"
   ]
  },
  {
   "cell_type": "markdown",
   "id": "32dcdf0d",
   "metadata": {},
   "source": [
    "Можно сделать вывод о сбалансированноси групп по метрике item_per_user"
   ]
  },
  {
   "cell_type": "markdown",
   "id": "649e244a",
   "metadata": {},
   "source": [
    "Следующий ARPU"
   ]
  },
  {
   "cell_type": "code",
   "execution_count": 66,
   "id": "b3d54fc6",
   "metadata": {},
   "outputs": [],
   "source": [
    "user_payments = user_payments.reset_index()"
   ]
  },
  {
   "cell_type": "code",
   "execution_count": 67,
   "id": "d52c35cd",
   "metadata": {},
   "outputs": [
    {
     "name": "stdout",
     "output_type": "stream",
     "text": [
      "Пара:('no_discount', '30_discount'), Разница средних ARPU:-4.0262, Pvalue:0.6391\n",
      "Пара:('no_discount', '60_discount'), Разница средних ARPU:-12.8964, Pvalue:0.2994\n",
      "Пара:('30_discount', '60_discount'), Разница средних ARPU:-8.8702, Pvalue:0.4721\n"
     ]
    }
   ],
   "source": [
    "for group in groups:\n",
    "    \n",
    "    # делим выборки на тест и контроль в зависимости от группы\n",
    "    test = user_payments[(user_payments['experiment_group'] == group[0])]\n",
    "    control = user_payments[(user_payments['experiment_group'] == group[1])]\n",
    "    \n",
    "    # применяем двувыборочный t-test без альтернативы (берем p-value)\n",
    "    pvalue = stats.ttest_ind(test['amount_net'], control['amount_net'])[1]\n",
    "    \n",
    "    # считаем разницу средних\n",
    "    difference_of_means = test['amount_net'].mean() - control['amount_net'].mean()\n",
    "    \n",
    "    # выводим результат\n",
    "    print(f'Пара:{group}, Разница средних ARPU:{round(difference_of_means, 4)}, Pvalue:{round(pvalue, 4)}')"
   ]
  },
  {
   "cell_type": "markdown",
   "id": "ed08855d",
   "metadata": {},
   "source": [
    "Также делаем вывод о сбалансированности по ARPU"
   ]
  },
  {
   "cell_type": "markdown",
   "id": "4621b680",
   "metadata": {},
   "source": [
    "## Попарные сравнения средних с помощью t-test"
   ]
  },
  {
   "cell_type": "markdown",
   "id": "a331500f",
   "metadata": {},
   "source": [
    "На первом шаге решил поступить чрезмерно примитивно: просто попарно сравнить средние с помощью t-test, чтобы получить хоть какие-то результаты.\n",
    "\n",
    "Но сперва нужно получить экспериментальные выборки."
   ]
  },
  {
   "cell_type": "markdown",
   "id": "3331de01",
   "metadata": {},
   "source": [
    "Теперь отберем данные позже 2021-09-15"
   ]
  },
  {
   "cell_type": "markdown",
   "id": "e66fa511",
   "metadata": {},
   "source": [
    "### Формализация гипотез"
   ]
  },
  {
   "cell_type": "markdown",
   "id": "72b91275",
   "metadata": {},
   "source": [
    "Перед проведением тестирования, наверное, было бы неплохо наметить свои ожидания. \n",
    "\n",
    " \n",
    "\n",
    "В конечном счете, мы ожидаем увеличение числа объявлений на одного юзера. Скидка должна простимулировать генерить пользователей больше объявлений\n",
    "\n",
    "$$H_0: item-per-user_{0} = item-per-user_{30}$$\n",
    "$$H_1: item-per-user_{0} < item-per-user_{30}$$\n",
    "\n",
    "Ожидаем непринятия нулевой гипотезы.\n",
    "\n",
    "\n",
    "Более того, можно предположить, что бОльшая скидка сподвигнет приобретать услуги сильнее, что даст более высокий стимул генерить больше объявлений в дальнейшем.\n",
    "\n",
    "\n",
    "$$H_0: item-per-user_{30} = item-per-user_{60}$$\n",
    "$$H_1: item-per-user_{30} < item-per-user_{60}$$\n",
    "\n",
    "И в конечном счете:\n",
    "\n",
    "$$H_0: item-per-user_{0} = item-per-user_{60}$$\n",
    "$$H_1: item-per-user_{0} < item-per-user_{60}$$\n",
    "\n",
    "\n",
    "Везде ожидаем непринятия нулевых гипотез\n",
    "\n",
    "То же самое и с ARPU. Большее число объявлений даст больше шансов для приобретения услуг для каких-либо из них\n",
    "\n",
    "$$H_0: ARPU_0 = ARPU_{30}$$\n",
    "$$H_1: ARPU_0 < ARPU_{30}$$\n",
    "\n",
    "Та же логика и для бОльшей скидки:\n",
    "\n",
    "$$H_0: ARPU_{30}= ARPU_{60}$$\n",
    "$$H_1: ARPU_{30} < ARPU_{60}$$\n",
    "\n",
    "И в конечном счете:\n",
    "\n",
    "$$H_0: ARPU_{0} = ARPU_{60}$$\n",
    "$$H_1: ARPU_{0} < ARPU_{60}$$\n",
    "\n",
    "Ожидаем непринятия нулевых гипотез"
   ]
  },
  {
   "cell_type": "markdown",
   "id": "b60bbecc",
   "metadata": {},
   "source": [
    "Замечание.\n",
    "\n",
    "Выбор односторонней и двухсторонней гипотезы - очень тонкая тема. На этот счет есть разные мнения и даже на разных курсах Авито лекторы придерживались разных взглядов. В данном случае, я решил поставить односторонние, исходя из бизнес-логики, подразумевая, что просадка поставленных метрик маловероятна с введением скидок.\n",
    "\n",
    "В то же время, при проверке на схожесть групп, гипотезы ставились двухсторонние, поскольку мы не делаем никаких предположений о потенциальном изменении, потенциальное отклонение там может быть равновероятно как в ту, так и в другую сторону."
   ]
  },
  {
   "cell_type": "markdown",
   "id": "2589491d",
   "metadata": {},
   "source": [
    "### item_per_users"
   ]
  },
  {
   "cell_type": "code",
   "execution_count": 52,
   "id": "c4688b5c",
   "metadata": {},
   "outputs": [],
   "source": [
    "df_for_item_per_users_exp = df_for_item_per_users[df_for_item_per_users['item_creation_time'] >= '2021-09-15']"
   ]
  },
  {
   "cell_type": "code",
   "execution_count": 53,
   "id": "4a0a79f0",
   "metadata": {},
   "outputs": [
    {
     "data": {
      "text/html": [
       "<div>\n",
       "<style scoped>\n",
       "    .dataframe tbody tr th:only-of-type {\n",
       "        vertical-align: middle;\n",
       "    }\n",
       "\n",
       "    .dataframe tbody tr th {\n",
       "        vertical-align: top;\n",
       "    }\n",
       "\n",
       "    .dataframe thead th {\n",
       "        text-align: right;\n",
       "    }\n",
       "</style>\n",
       "<table border=\"1\" class=\"dataframe\">\n",
       "  <thead>\n",
       "    <tr style=\"text-align: right;\">\n",
       "      <th></th>\n",
       "      <th>user_id</th>\n",
       "      <th>item_id</th>\n",
       "      <th>item_creation_time</th>\n",
       "      <th>experiment_group</th>\n",
       "    </tr>\n",
       "  </thead>\n",
       "  <tbody>\n",
       "    <tr>\n",
       "      <th>414</th>\n",
       "      <td>393200750029</td>\n",
       "      <td>1.124603e+12</td>\n",
       "      <td>2021-09-15 22:23:50.302226</td>\n",
       "      <td>no_discount</td>\n",
       "    </tr>\n",
       "    <tr>\n",
       "      <th>461</th>\n",
       "      <td>6551250341</td>\n",
       "      <td>1.104105e+12</td>\n",
       "      <td>2021-11-03 13:46:57.273453</td>\n",
       "      <td>60_discount</td>\n",
       "    </tr>\n",
       "    <tr>\n",
       "      <th>770</th>\n",
       "      <td>913080500018</td>\n",
       "      <td>1.114767e+12</td>\n",
       "      <td>2021-09-26 10:32:15.484792</td>\n",
       "      <td>30_discount</td>\n",
       "    </tr>\n",
       "    <tr>\n",
       "      <th>771</th>\n",
       "      <td>913080500018</td>\n",
       "      <td>1.114767e+12</td>\n",
       "      <td>2021-09-26 10:32:15.484792</td>\n",
       "      <td>30_discount</td>\n",
       "    </tr>\n",
       "    <tr>\n",
       "      <th>772</th>\n",
       "      <td>913080500018</td>\n",
       "      <td>1.114767e+12</td>\n",
       "      <td>2021-09-26 10:32:15.484792</td>\n",
       "      <td>30_discount</td>\n",
       "    </tr>\n",
       "  </tbody>\n",
       "</table>\n",
       "</div>"
      ],
      "text/plain": [
       "          user_id       item_id         item_creation_time experiment_group\n",
       "414  393200750029  1.124603e+12 2021-09-15 22:23:50.302226      no_discount\n",
       "461    6551250341  1.104105e+12 2021-11-03 13:46:57.273453      60_discount\n",
       "770  913080500018  1.114767e+12 2021-09-26 10:32:15.484792      30_discount\n",
       "771  913080500018  1.114767e+12 2021-09-26 10:32:15.484792      30_discount\n",
       "772  913080500018  1.114767e+12 2021-09-26 10:32:15.484792      30_discount"
      ]
     },
     "execution_count": 53,
     "metadata": {},
     "output_type": "execute_result"
    }
   ],
   "source": [
    "df_for_item_per_users_exp.head()"
   ]
  },
  {
   "cell_type": "code",
   "execution_count": 54,
   "id": "ac758419",
   "metadata": {},
   "outputs": [],
   "source": [
    "item_counts_exp = df_for_item_per_users_exp.groupby(['experiment_group', 'user_id'])[['item_id']].count()"
   ]
  },
  {
   "cell_type": "code",
   "execution_count": 55,
   "id": "0b1ad35c",
   "metadata": {},
   "outputs": [],
   "source": [
    "item_counts_exp = item_counts_exp.reset_index()"
   ]
  },
  {
   "cell_type": "code",
   "execution_count": 56,
   "id": "dcac216d",
   "metadata": {},
   "outputs": [
    {
     "data": {
      "text/html": [
       "<div>\n",
       "<style scoped>\n",
       "    .dataframe tbody tr th:only-of-type {\n",
       "        vertical-align: middle;\n",
       "    }\n",
       "\n",
       "    .dataframe tbody tr th {\n",
       "        vertical-align: top;\n",
       "    }\n",
       "\n",
       "    .dataframe thead th {\n",
       "        text-align: right;\n",
       "    }\n",
       "</style>\n",
       "<table border=\"1\" class=\"dataframe\">\n",
       "  <thead>\n",
       "    <tr style=\"text-align: right;\">\n",
       "      <th></th>\n",
       "      <th>experiment_group</th>\n",
       "      <th>user_id</th>\n",
       "      <th>item_id</th>\n",
       "    </tr>\n",
       "  </thead>\n",
       "  <tbody>\n",
       "    <tr>\n",
       "      <th>0</th>\n",
       "      <td>30_discount</td>\n",
       "      <td>2893</td>\n",
       "      <td>1</td>\n",
       "    </tr>\n",
       "    <tr>\n",
       "      <th>1</th>\n",
       "      <td>30_discount</td>\n",
       "      <td>5487</td>\n",
       "      <td>5</td>\n",
       "    </tr>\n",
       "    <tr>\n",
       "      <th>2</th>\n",
       "      <td>30_discount</td>\n",
       "      <td>16966</td>\n",
       "      <td>1</td>\n",
       "    </tr>\n",
       "    <tr>\n",
       "      <th>3</th>\n",
       "      <td>30_discount</td>\n",
       "      <td>22983</td>\n",
       "      <td>1</td>\n",
       "    </tr>\n",
       "    <tr>\n",
       "      <th>4</th>\n",
       "      <td>30_discount</td>\n",
       "      <td>269071</td>\n",
       "      <td>1</td>\n",
       "    </tr>\n",
       "  </tbody>\n",
       "</table>\n",
       "</div>"
      ],
      "text/plain": [
       "  experiment_group  user_id  item_id\n",
       "0      30_discount     2893        1\n",
       "1      30_discount     5487        5\n",
       "2      30_discount    16966        1\n",
       "3      30_discount    22983        1\n",
       "4      30_discount   269071        1"
      ]
     },
     "execution_count": 56,
     "metadata": {},
     "output_type": "execute_result"
    }
   ],
   "source": [
    "item_counts_exp.head()"
   ]
  },
  {
   "cell_type": "markdown",
   "id": "27c36ed6",
   "metadata": {},
   "source": [
    "P.S. Да, можно было загнать код с t-test в одну функцию и сделать все красиво, но я слишком торопился(( поправлю попозже"
   ]
  },
  {
   "cell_type": "markdown",
   "id": "b36d8952",
   "metadata": {},
   "source": [
    "Создаем попарные группы"
   ]
  },
  {
   "cell_type": "code",
   "execution_count": 57,
   "id": "e8c213fe",
   "metadata": {},
   "outputs": [],
   "source": [
    "groups = [('no_discount', '30_discount'), ('no_discount', '60_discount'), ('30_discount', '60_discount')] "
   ]
  },
  {
   "cell_type": "code",
   "execution_count": 45,
   "id": "e0aba0d8",
   "metadata": {},
   "outputs": [],
   "source": [
    "from scipy import stats"
   ]
  },
  {
   "cell_type": "code",
   "execution_count": 60,
   "id": "16185192",
   "metadata": {},
   "outputs": [
    {
     "name": "stdout",
     "output_type": "stream",
     "text": [
      "Пара:('no_discount', '30_discount'), Разница средних:0.274, Pvalue:0.7437\n",
      "Пара:('no_discount', '60_discount'), Разница средних:-2.0002, Pvalue:0.1955\n",
      "Пара:('30_discount', '60_discount'), Разница средних:-2.2742, Pvalue:0.1608\n"
     ]
    }
   ],
   "source": [
    "# запускаем цикл по каждой паре\n",
    "for group in groups:\n",
    "    \n",
    "    # делим выборки на тест и контроль в зависимости от группы\n",
    "    test = item_counts_exp[(item_counts_exp['experiment_group'] == group[0])]\n",
    "    control = item_counts_exp[(item_counts_exp['experiment_group'] == group[1])]\n",
    "    \n",
    "    # применяем двувыборочный t-test с альтернативой (берем p-value)\n",
    "    pvalue = stats.ttest_ind(test['item_id'], control['item_id'], alternative='less')[1]\n",
    "    \n",
    "    # считаем разницу средних\n",
    "    difference_of_means = test['item_id'].mean() - control['item_id'].mean()\n",
    "    \n",
    "    # выводим результат\n",
    "    print(f'Пара:{group}, Разница средних:{round(difference_of_means, 4)}, Pvalue:{round(pvalue, 4)}')"
   ]
  },
  {
   "cell_type": "markdown",
   "id": "414db67a",
   "metadata": {},
   "source": [
    "Видим, что в ростом скидки до 60 процентов средние количества объявлений на юзера увеличиваются, но эти изменения не являются статистически значимыми. "
   ]
  },
  {
   "cell_type": "markdown",
   "id": "7a6236ed",
   "metadata": {},
   "source": [
    "### ARPU"
   ]
  },
  {
   "cell_type": "markdown",
   "id": "d9882a49",
   "metadata": {},
   "source": [
    "Аналогично, ограничиваем данные временем эксперимента"
   ]
  },
  {
   "cell_type": "code",
   "execution_count": 51,
   "id": "3e61ebfa",
   "metadata": {},
   "outputs": [],
   "source": [
    "df_for_ARPU_exp = df_for_ARPU[df_for_ARPU['event_time'] >= '2021-09-15']"
   ]
  },
  {
   "cell_type": "code",
   "execution_count": 69,
   "id": "743ffbaa",
   "metadata": {},
   "outputs": [],
   "source": [
    "user_payments_exp = df_for_ARPU_exp.groupby(['experiment_group', 'user_id'])[['amount_net']].sum()"
   ]
  },
  {
   "cell_type": "code",
   "execution_count": 70,
   "id": "d43fa1e7",
   "metadata": {},
   "outputs": [],
   "source": [
    "user_payments_exp = user_payments_exp.reset_index()"
   ]
  },
  {
   "cell_type": "code",
   "execution_count": 71,
   "id": "3ebbb4f7",
   "metadata": {},
   "outputs": [
    {
     "name": "stdout",
     "output_type": "stream",
     "text": [
      "Пара:('no_discount', '30_discount'), Разница средних ARPU:-1.2411, Pvalue:0.4495\n",
      "Пара:('no_discount', '60_discount'), Разница средних ARPU:-2.959, Pvalue:0.4033\n",
      "Пара:('30_discount', '60_discount'), Разница средних ARPU:-1.7179, Pvalue:0.4383\n"
     ]
    }
   ],
   "source": [
    "for group in groups:\n",
    "    \n",
    "    # делим выборки на тест и контроль в зависимости от группы\n",
    "    test = user_payments_exp[(user_payments_exp['experiment_group'] == group[0])]\n",
    "    control = user_payments_exp[(user_payments_exp['experiment_group'] == group[1])]\n",
    "    \n",
    "    # применяем двувыборочный t-test с альтернативой (берем p-value)\n",
    "    pvalue = stats.ttest_ind(test['amount_net'], control['amount_net'], alternative='less')[1]\n",
    "    \n",
    "    # считаем разницу средних\n",
    "    difference_of_means = test['amount_net'].mean() - control['amount_net'].mean()\n",
    "    \n",
    "    # выводим результат\n",
    "    print(f'Пара:{group}, Разница средних ARPU:{round(difference_of_means, 4)}, Pvalue:{round(pvalue, 4)}')"
   ]
  },
  {
   "cell_type": "markdown",
   "id": "6ddc626d",
   "metadata": {},
   "source": [
    "Ну что могу сказать) как-то грустно) пока нет никаких статистических различий.. ушел перепроверяться)"
   ]
  },
  {
   "cell_type": "code",
   "execution_count": null,
   "id": "13f6b57c",
   "metadata": {},
   "outputs": [],
   "source": []
  }
 ],
 "metadata": {
  "kernelspec": {
   "display_name": "Python 3 (ipykernel)",
   "language": "python",
   "name": "python3"
  },
  "language_info": {
   "codemirror_mode": {
    "name": "ipython",
    "version": 3
   },
   "file_extension": ".py",
   "mimetype": "text/x-python",
   "name": "python",
   "nbconvert_exporter": "python",
   "pygments_lexer": "ipython3",
   "version": "3.9.13"
  }
 },
 "nbformat": 4,
 "nbformat_minor": 5
}
